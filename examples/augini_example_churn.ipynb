{
  "cells": [
    {
      "cell_type": "code",
      "execution_count": null,
      "metadata": {
        "colab": {
          "base_uri": "https://localhost:8080/"
        },
        "id": "WOCb9PQGk-Fn",
        "outputId": "d4ef23c5-8396-4214-a343-399c790698d4"
      },
      "outputs": [],
      "source": [
        "%pip install augini"
      ]
    },
    {
      "cell_type": "code",
      "execution_count": null,
      "metadata": {
        "id": "JUeu9trLlA2m"
      },
      "outputs": [],
      "source": [
        "import pandas as pd\n",
        "import numpy as np\n",
        "import matplotlib.pyplot as plt\n",
        "import seaborn as sns\n",
        "from sklearn.model_selection import train_test_split\n",
        "from sklearn.ensemble import RandomForestClassifier\n",
        "from sklearn.metrics import classification_report, confusion_matrix\n",
        "import json\n",
        "import os\n",
        "import sys\n",
        "sys.path.append('..')\n",
        "from augini import Augini\n",
        "\n",
        "# Input your api key\n",
        "def get_api_key():\n",
        "    api_key = os.getenv('API_KEY')\n",
        "    if api_key:\n",
        "        print(\"Using API key from environment variable.\")\n",
        "        return api_key\n",
        "    else:\n",
        "        api_key = input(\"Enter your API key manually: \")\n",
        "        return api_key\n",
        "\n",
        "# Set up Augini\n",
        "api_key = get_api_key()\n",
        "augini = Augini(api_key=api_key, use_openrouter=True, model='openai/gpt-4o-mini-2024-07-18')"
      ]
    },
    {
      "cell_type": "code",
      "execution_count": null,
      "metadata": {
        "colab": {
          "base_uri": "https://localhost:8080/",
          "height": 223
        },
        "id": "uxywx1Xm0ChV",
        "outputId": "271adf03-4f2c-4736-b2df-e3f0d1c26741"
      },
      "outputs": [],
      "source": [
        "# Create a sample customer dataset\n",
        "np.random.seed(42)\n",
        "n_customers = 100\n",
        "\n",
        "data = {\n",
        "    'CustomerID': [f'C{i:04d}' for i in range(1, n_customers + 1)],\n",
        "    'Age': np.random.randint(18, 80, n_customers),\n",
        "    'Tenure': np.random.randint(0, 10, n_customers),\n",
        "    'MonthlyCharges': np.random.uniform(20, 200, n_customers).round(2),\n",
        "    'TotalCharges': np.random.uniform(100, 5000, n_customers).round(2),\n",
        "    'Contract': np.random.choice(['Month-to-month', 'One year', 'Two year'], n_customers),\n",
        "    'PaymentMethod': np.random.choice(['Electronic check', 'Mailed check', 'Bank transfer', 'Credit card'], n_customers),\n",
        "    'Churn': np.random.choice([0, 1], n_customers, p=[0.7, 0.3])  # 30% churn rate\n",
        "}\n",
        "\n",
        "df = pd.DataFrame(data)\n",
        "\n",
        "print(\"Original Dataset:\")\n",
        "display(df.head())"
      ]
    },
    {
      "cell_type": "markdown",
      "metadata": {
        "id": "BaOf6Klh450G"
      },
      "source": [
        "# 1. Data Augmentation: Add synthetic features using Augini"
      ]
    },
    {
      "cell_type": "code",
      "execution_count": null,
      "metadata": {
        "colab": {
          "base_uri": "https://localhost:8080/",
          "height": 327
        },
        "id": "qV42lGkf1K8G",
        "outputId": "2e8864fd-b3b7-4238-90a8-46a03e2839e9"
      },
      "outputs": [],
      "source": [
        "augment_prompt = \"\"\"\n",
        "Based on the customer's age, tenure, monthly charges, total charges, contract type, and payment method, suggest:\n",
        "1. A likely reason for churn (if applicable)\n",
        "2. A personalized retention offer\n",
        "3. The customer's estimated lifetime value (in dollars)\n",
        "\n",
        "Respond with a JSON object with keys 'ChurnReason', 'RetentionOffer', and 'EstimatedLTV'.\n",
        "\"\"\"\n",
        "\n",
        "augmented_df = augini.augment_columns(df, ['ChurnReason', 'RetentionOffer', 'EstimatedLTV'], custom_prompt=augment_prompt)\n",
        "\n",
        "print(\"\\nAugmented Dataset:\")\n",
        "display(augmented_df.head())"
      ]
    },
    {
      "cell_type": "code",
      "execution_count": null,
      "metadata": {
        "colab": {
          "base_uri": "https://localhost:8080/"
        },
        "id": "qIGNbDcq1K_J",
        "outputId": "fdb18839-9a15-4dd9-fb50-412d950c65f8"
      },
      "outputs": [],
      "source": [
        "# After augmenting the dataset\n",
        "print(\"\\nExample Augmented Data:\")\n",
        "for i in range(3):\n",
        "    customer = augmented_df.iloc[i]\n",
        "    print(f\"\\nCustomer ID: {customer['CustomerID']}\")\n",
        "    print(f\"Age: {customer['Age']}, Tenure: {customer['Tenure']}, Monthly Charges: ${customer['MonthlyCharges']:.2f}\")\n",
        "    print(f\"Contract: {customer['Contract']}, Churn: {'Yes' if customer['Churn'] else 'No'}\")\n",
        "    print(f\"Churn Reason: {customer['ChurnReason']}\")\n",
        "    print(f\"Retention Offer: {customer['RetentionOffer']}\")\n",
        "    print(f\"Estimated LTV: ${customer['EstimatedLTV']:.2f}\")"
      ]
    },
    {
      "cell_type": "markdown",
      "metadata": {
        "id": "fLzTyj2t1g6W"
      },
      "source": [
        "Key Observations:\n",
        "\n",
        "- The **augini** generates personalized retention offers based on each customer's specific situation, considering factors like age, contract type, and perceived churn risk.\n",
        "- Estimated LTV varies significantly, highlighting the importance of tailored retention strategies for high-value customers.\n",
        "- The **augini** identifies potential churn reasons even for non-churned customers, allowing for proactive retention efforts.\n",
        "- The retention offers are designed to address the specific concerns or risk factors identified for each customer."
      ]
    },
    {
      "cell_type": "markdown",
      "metadata": {
        "id": "uEV4_dqn43NY"
      },
      "source": [
        "# 2. Data Analysis and Visualization"
      ]
    },
    {
      "cell_type": "code",
      "execution_count": null,
      "metadata": {
        "colab": {
          "base_uri": "https://localhost:8080/",
          "height": 1000
        },
        "id": "I3f4jLe30Cpb",
        "outputId": "2cf15aae-b771-424f-f0e2-d038032ea393"
      },
      "outputs": [],
      "source": [
        "plt.figure(figsize=(16, 12))\n",
        "\n",
        "# Churn rate by contract type\n",
        "plt.subplot(2, 2, 1)\n",
        "sns.countplot(data=df, x='Contract', hue='Churn')\n",
        "plt.title('Churn Rate by Contract Type')\n",
        "\n",
        "# Monthly charges distribution for churned vs non-churned customers\n",
        "plt.subplot(2, 2, 2)\n",
        "sns.histplot(data=df, x='MonthlyCharges', hue='Churn', kde=True)\n",
        "plt.title('Monthly Charges Distribution')\n",
        "\n",
        "# Tenure vs Churn\n",
        "plt.subplot(2, 2, 3)\n",
        "sns.boxplot(data=df, x='Churn', y='Tenure')\n",
        "plt.title('Tenure vs Churn')\n",
        "\n",
        "# Correlation heatmap\n",
        "plt.subplot(2, 2, 4)\n",
        "corr_matrix = df[['Age', 'Tenure', 'MonthlyCharges', 'TotalCharges', 'Churn']].corr()\n",
        "sns.heatmap(corr_matrix, annot=True, cmap='coolwarm')\n",
        "plt.title('Correlation Heatmap')\n",
        "\n",
        "plt.tight_layout()\n",
        "plt.show()"
      ]
    },
    {
      "cell_type": "markdown",
      "metadata": {
        "id": "L-TFPflQ401f"
      },
      "source": [
        "# 3. Churn Prediction Model"
      ]
    },
    {
      "cell_type": "code",
      "execution_count": null,
      "metadata": {
        "colab": {
          "base_uri": "https://localhost:8080/",
          "height": 755
        },
        "id": "R1kYfza10CsT",
        "outputId": "6177d709-edba-4976-95e6-a5583a20cec9"
      },
      "outputs": [],
      "source": [
        "features = ['Age', 'Tenure', 'MonthlyCharges', 'TotalCharges']\n",
        "X = df[features]\n",
        "y = df['Churn']\n",
        "\n",
        "X_train, X_test, y_train, y_test = train_test_split(X, y, test_size=0.2, random_state=42)\n",
        "\n",
        "model = RandomForestClassifier(n_estimators=100, random_state=42)\n",
        "model.fit(X_train, y_train)\n",
        "\n",
        "y_pred = model.predict(X_test)\n",
        "\n",
        "print(\"\\nChurn Prediction Model Performance:\")\n",
        "print(classification_report(y_test, y_pred))\n",
        "\n",
        "# 4. Feature Importance\n",
        "feature_importance = pd.DataFrame({\n",
        "    'feature': features,\n",
        "    'importance': model.feature_importances_\n",
        "}).sort_values('importance', ascending=False)\n",
        "\n",
        "plt.figure(figsize=(10, 6))\n",
        "sns.barplot(x='importance', y='feature', data=feature_importance)\n",
        "plt.title('Feature Importance for Churn Prediction')\n",
        "plt.show()\n",
        "\n"
      ]
    },
    {
      "cell_type": "markdown",
      "metadata": {
        "id": "ckRZiWDd4ysN"
      },
      "source": [
        "# 5. Insights Generation using Augini"
      ]
    },
    {
      "cell_type": "code",
      "execution_count": 8,
      "metadata": {
        "id": "g2Q2g6WB1wWq"
      },
      "outputs": [],
      "source": [
        "insights_prompt = \"\"\"\n",
        "Based on the customer churn analysis, provide three key insights about customer behavior, churn patterns, and potential retention strategies.\n",
        "Consider factors such as contract types, payment methods, tenure, and charges.\n",
        "\n",
        "Respond with a JSON object with keys 'Insight1', 'Insight2', and 'Insight3'.\n",
        "\"\"\"\n",
        "\n",
        "# Use augment_single with the entire DataFrame\n",
        "insights = augini.augment_single(augmented_df.head(4), 'Insights', custom_prompt=insights_prompt)"
      ]
    },
    {
      "cell_type": "code",
      "execution_count": null,
      "metadata": {
        "colab": {
          "base_uri": "https://localhost:8080/",
          "height": 244
        },
        "id": "dop_1RAM3zd5",
        "outputId": "f2aa5d90-2585-4bc8-84fb-044bf345f32a"
      },
      "outputs": [],
      "source": [
        "insights.head()"
      ]
    },
    {
      "cell_type": "code",
      "execution_count": null,
      "metadata": {
        "colab": {
          "base_uri": "https://localhost:8080/"
        },
        "id": "1K0q2Xn13k3L",
        "outputId": "528f4590-1a07-4875-c4f7-3ec3438a5792"
      },
      "outputs": [],
      "source": [
        "print(\"Insights from the first 3 rows:\")\n",
        "for i in range(3):\n",
        "    insight = insights['Insights'].iloc[i]\n",
        "    print(f\"\\nRow {i + 1}:\")\n",
        "    if isinstance(insight, dict):\n",
        "        for key, value in insight.items():\n",
        "            print(f\"{key}: {value}\")\n",
        "    else:\n",
        "        print(\"Unexpected data type. Raw insight:\")\n",
        "        print(insight)\n",
        "    print(\"-\" * 50)  # Separator between rows"
      ]
    },
    {
      "cell_type": "markdown",
      "metadata": {
        "id": "6LkVTHqE4iiP"
      },
      "source": [
        "# 6. Retention Strategy Recommendations"
      ]
    },
    {
      "cell_type": "code",
      "execution_count": 11,
      "metadata": {
        "id": "LC6enbz119I4"
      },
      "outputs": [],
      "source": [
        "strategy_prompt = \"\"\"\n",
        "Based on the churn analysis and generated insights, provide three strategic recommendations to reduce customer churn and improve retention.\n",
        "Consider personalized offers, pricing strategies, contract adjustments, and customer engagement initiatives.\n",
        "\n",
        "Respond with a JSON object with keys 'Strategy1', 'Strategy2', 'Strategy3'.\n",
        "\"\"\"\n",
        "\n",
        "strategies = augini.augment_single(augmented_df.head(4), 'Strategies', custom_prompt=strategy_prompt)"
      ]
    },
    {
      "cell_type": "code",
      "execution_count": null,
      "metadata": {
        "colab": {
          "base_uri": "https://localhost:8080/"
        },
        "id": "EG7IKvcT2hrT",
        "outputId": "da34c345-d585-4911-cda6-ffd4399e5792"
      },
      "outputs": [],
      "source": [
        "# Assuming your DataFrame is named 'insights'\n",
        "print(\"Strategies from the first 3 rows:\")\n",
        "for i in range(3):\n",
        "    insight = strategies['Strategies'].iloc[i]\n",
        "    print(f\"\\nRow {i + 1}:\")\n",
        "    if isinstance(insight, dict):\n",
        "        for key, value in insight.items():\n",
        "            print(f\"{key}: {value}\")\n",
        "    else:\n",
        "        print(\"Unexpected data type. Raw insight:\")\n",
        "        print(insight)\n",
        "    print(\"-\" * 50)  # Separator between rows"
      ]
    },
    {
      "cell_type": "markdown",
      "metadata": {
        "id": "HXIuCOqp55Yy"
      },
      "source": [
        "# Summary of Retention Strategies\n",
        "\n",
        "## Strategy 1: Personalized Offers and Loyalty Programs\n",
        "\n",
        "- **Long-term Customers**: Implement a personalized loyalty discount program, offering up to 15% off monthly charges for customers with 9+ years tenure.\n",
        "- **Age-based Targeting**: Tailor offers based on age demographics, particularly for senior customers.\n",
        "- **Contract Commitment**: Encourage month-to-month customers to switch to longer-term plans with incentives like discounted rates (e.g., $54.44/month for 6 months on a 12-month contract).\n",
        "\n",
        "## Strategy 2: Flexible and Tiered Pricing\n",
        "\n",
        "- **Usage-based Plans**: Introduce flexible pricing options that align with different usage patterns and customer needs.\n",
        "- **Senior-friendly Options**: Develop tiered pricing that caters specifically to senior citizens' budgets and service requirements.\n",
        "- **Competitive Alignment**: Analyze the market to ensure prices reflect perceived value and introduce loyalty rewards for long-term customers.\n",
        "\n",
        "## Strategy 3: Enhanced Customer Engagement\n",
        "\n",
        "- **Proactive Communication**: Establish regular check-ins with customers to address concerns and offer personalized solutions.\n",
        "- **Feedback Mechanism**: Implement quarterly customer satisfaction surveys to gather insights and preemptively address issues.\n",
        "- **Relationship Building**: Foster stronger connections through ongoing engagement initiatives and responsive customer service.\n",
        "\n",
        "These strategies focus on personalizing offers, creating flexible pricing structures, and improving customer engagement to reduce churn and enhance overall customer satisfaction."
      ]
    }
  ],
  "metadata": {
    "colab": {
      "provenance": []
    },
    "kernelspec": {
      "display_name": ".venv",
      "language": "python",
      "name": "python3"
    },
    "language_info": {
      "codemirror_mode": {
        "name": "ipython",
        "version": 3
      },
      "file_extension": ".py",
      "mimetype": "text/x-python",
      "name": "python",
      "nbconvert_exporter": "python",
      "pygments_lexer": "ipython3",
      "version": "3.8.10"
    }
  },
  "nbformat": 4,
  "nbformat_minor": 0
}
