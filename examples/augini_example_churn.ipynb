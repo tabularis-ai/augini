{
  "cells": [
    {
      "cell_type": "code",
      "execution_count": null,
      "metadata": {
        "colab": {
          "base_uri": "https://localhost:8080/"
        },
        "id": "WOCb9PQGk-Fn",
        "outputId": "d4ef23c5-8396-4214-a343-399c790698d4"
      },
      "outputs": [],
      "source": [
        "%pip install augini"
      ]
    },
    {
      "cell_type": "code",
      "execution_count": 1,
      "metadata": {
        "id": "JUeu9trLlA2m"
      },
      "outputs": [
        {
          "name": "stdout",
          "output_type": "stream",
          "text": [
            "Using API key from environment variable.\n"
          ]
        },
        {
          "name": "stderr",
          "output_type": "stream",
          "text": [
            "/home/onlyartist9/Projects/Tabularis/augini/.venv/lib/python3.8/site-packages/tqdm/auto.py:21: TqdmWarning: IProgress not found. Please update jupyter and ipywidgets. See https://ipywidgets.readthedocs.io/en/stable/user_install.html\n",
            "  from .autonotebook import tqdm as notebook_tqdm\n"
          ]
        }
      ],
      "source": [
        "import pandas as pd\n",
        "import numpy as np\n",
        "import matplotlib.pyplot as plt\n",
        "import seaborn as sns\n",
        "from sklearn.model_selection import train_test_split\n",
        "from sklearn.ensemble import RandomForestClassifier\n",
        "from sklearn.metrics import classification_report, confusion_matrix\n",
        "import json\n",
        "import os\n",
        "import sys\n",
        "sys.path.append('..')\n",
        "from augini import Augini\n",
        "\n",
        "# Input your api key\n",
        "def get_api_key():\n",
        "    api_key = os.environ.get('OPENROUTER_TOKEN')\n",
        "    if api_key:\n",
        "        print(\"Using API key from environment variable.\")\n",
        "        return api_key\n",
        "    else:\n",
        "        api_key = input(\"Enter your API key manually: \")\n",
        "        return api_key\n",
        "\n",
        "# Set up Augini\n",
        "api_key = get_api_key()\n",
        "augini = Augini(api_key=api_key, use_openrouter=True, model='openai/gpt-4o-mini-2024-07-18')"
      ]
    },
    {
      "cell_type": "code",
      "execution_count": 2,
      "metadata": {
        "colab": {
          "base_uri": "https://localhost:8080/",
          "height": 223
        },
        "id": "uxywx1Xm0ChV",
        "outputId": "271adf03-4f2c-4736-b2df-e3f0d1c26741"
      },
      "outputs": [
        {
          "name": "stdout",
          "output_type": "stream",
          "text": [
            "Original Dataset:\n"
          ]
        },
        {
          "data": {
            "text/html": [
              "<div>\n",
              "<style scoped>\n",
              "    .dataframe tbody tr th:only-of-type {\n",
              "        vertical-align: middle;\n",
              "    }\n",
              "\n",
              "    .dataframe tbody tr th {\n",
              "        vertical-align: top;\n",
              "    }\n",
              "\n",
              "    .dataframe thead th {\n",
              "        text-align: right;\n",
              "    }\n",
              "</style>\n",
              "<table border=\"1\" class=\"dataframe\">\n",
              "  <thead>\n",
              "    <tr style=\"text-align: right;\">\n",
              "      <th></th>\n",
              "      <th>CustomerID</th>\n",
              "      <th>Age</th>\n",
              "      <th>Tenure</th>\n",
              "      <th>MonthlyCharges</th>\n",
              "      <th>TotalCharges</th>\n",
              "      <th>Contract</th>\n",
              "      <th>PaymentMethod</th>\n",
              "      <th>Churn</th>\n",
              "    </tr>\n",
              "  </thead>\n",
              "  <tbody>\n",
              "    <tr>\n",
              "      <th>0</th>\n",
              "      <td>C0001</td>\n",
              "      <td>56</td>\n",
              "      <td>9</td>\n",
              "      <td>31.68</td>\n",
              "      <td>313.66</td>\n",
              "      <td>One year</td>\n",
              "      <td>Electronic check</td>\n",
              "      <td>0</td>\n",
              "    </tr>\n",
              "    <tr>\n",
              "      <th>1</th>\n",
              "      <td>C0002</td>\n",
              "      <td>69</td>\n",
              "      <td>3</td>\n",
              "      <td>65.70</td>\n",
              "      <td>4973.30</td>\n",
              "      <td>One year</td>\n",
              "      <td>Bank transfer</td>\n",
              "      <td>0</td>\n",
              "    </tr>\n",
              "    <tr>\n",
              "      <th>2</th>\n",
              "      <td>C0003</td>\n",
              "      <td>46</td>\n",
              "      <td>7</td>\n",
              "      <td>64.44</td>\n",
              "      <td>2402.73</td>\n",
              "      <td>Month-to-month</td>\n",
              "      <td>Credit card</td>\n",
              "      <td>0</td>\n",
              "    </tr>\n",
              "    <tr>\n",
              "      <th>3</th>\n",
              "      <td>C0004</td>\n",
              "      <td>32</td>\n",
              "      <td>6</td>\n",
              "      <td>145.33</td>\n",
              "      <td>1469.85</td>\n",
              "      <td>Two year</td>\n",
              "      <td>Electronic check</td>\n",
              "      <td>0</td>\n",
              "    </tr>\n",
              "    <tr>\n",
              "      <th>4</th>\n",
              "      <td>C0005</td>\n",
              "      <td>60</td>\n",
              "      <td>8</td>\n",
              "      <td>148.21</td>\n",
              "      <td>4429.12</td>\n",
              "      <td>Month-to-month</td>\n",
              "      <td>Bank transfer</td>\n",
              "      <td>1</td>\n",
              "    </tr>\n",
              "  </tbody>\n",
              "</table>\n",
              "</div>"
            ],
            "text/plain": [
              "  CustomerID  Age  Tenure  MonthlyCharges  TotalCharges        Contract  \\\n",
              "0      C0001   56       9           31.68        313.66        One year   \n",
              "1      C0002   69       3           65.70       4973.30        One year   \n",
              "2      C0003   46       7           64.44       2402.73  Month-to-month   \n",
              "3      C0004   32       6          145.33       1469.85        Two year   \n",
              "4      C0005   60       8          148.21       4429.12  Month-to-month   \n",
              "\n",
              "      PaymentMethod  Churn  \n",
              "0  Electronic check      0  \n",
              "1     Bank transfer      0  \n",
              "2       Credit card      0  \n",
              "3  Electronic check      0  \n",
              "4     Bank transfer      1  "
            ]
          },
          "metadata": {},
          "output_type": "display_data"
        }
      ],
      "source": [
        "# Create a sample customer dataset\n",
        "np.random.seed(42)\n",
        "n_customers = 100\n",
        "\n",
        "data = {\n",
        "    'CustomerID': [f'C{i:04d}' for i in range(1, n_customers + 1)],\n",
        "    'Age': np.random.randint(18, 80, n_customers),\n",
        "    'Tenure': np.random.randint(0, 10, n_customers),\n",
        "    'MonthlyCharges': np.random.uniform(20, 200, n_customers).round(2),\n",
        "    'TotalCharges': np.random.uniform(100, 5000, n_customers).round(2),\n",
        "    'Contract': np.random.choice(['Month-to-month', 'One year', 'Two year'], n_customers),\n",
        "    'PaymentMethod': np.random.choice(['Electronic check', 'Mailed check', 'Bank transfer', 'Credit card'], n_customers),\n",
        "    'Churn': np.random.choice([0, 1], n_customers, p=[0.7, 0.3])  # 30% churn rate\n",
        "}\n",
        "\n",
        "df = pd.DataFrame(data)\n",
        "\n",
        "print(\"Original Dataset:\")\n",
        "display(df.head())"
      ]
    },
    {
      "cell_type": "markdown",
      "metadata": {
        "id": "BaOf6Klh450G"
      },
      "source": [
        "# 1. Data Augmentation: Add synthetic features using Augini"
      ]
    },
    {
      "cell_type": "code",
      "execution_count": 3,
      "metadata": {
        "colab": {
          "base_uri": "https://localhost:8080/",
          "height": 327
        },
        "id": "qV42lGkf1K8G",
        "outputId": "2e8864fd-b3b7-4238-90a8-46a03e2839e9"
      },
      "outputs": [
        {
          "name": "stdout",
          "output_type": "stream",
          "text": [
            "\n",
            "Augmented Dataset:\n"
          ]
        },
        {
          "data": {
            "text/html": [
              "<div>\n",
              "<style scoped>\n",
              "    .dataframe tbody tr th:only-of-type {\n",
              "        vertical-align: middle;\n",
              "    }\n",
              "\n",
              "    .dataframe tbody tr th {\n",
              "        vertical-align: top;\n",
              "    }\n",
              "\n",
              "    .dataframe thead th {\n",
              "        text-align: right;\n",
              "    }\n",
              "</style>\n",
              "<table border=\"1\" class=\"dataframe\">\n",
              "  <thead>\n",
              "    <tr style=\"text-align: right;\">\n",
              "      <th></th>\n",
              "      <th>CustomerID</th>\n",
              "      <th>Age</th>\n",
              "      <th>Tenure</th>\n",
              "      <th>MonthlyCharges</th>\n",
              "      <th>TotalCharges</th>\n",
              "      <th>Contract</th>\n",
              "      <th>PaymentMethod</th>\n",
              "      <th>Churn</th>\n",
              "      <th>ChurnReason</th>\n",
              "      <th>RetentionOffer</th>\n",
              "      <th>EstimatedLTV</th>\n",
              "    </tr>\n",
              "  </thead>\n",
              "  <tbody>\n",
              "    <tr>\n",
              "      <th>0</th>\n",
              "      <td>C0001</td>\n",
              "      <td>56</td>\n",
              "      <td>9</td>\n",
              "      <td>31.68</td>\n",
              "      <td>313.66</td>\n",
              "      <td>One year</td>\n",
              "      <td>Electronic check</td>\n",
              "      <td>0</td>\n",
              "      <td>N/A - Customer is currently not at risk of chu...</td>\n",
              "      <td>Offer a loyalty discount of 10% on monthly cha...</td>\n",
              "      <td>380.00</td>\n",
              "    </tr>\n",
              "    <tr>\n",
              "      <th>1</th>\n",
              "      <td>C0002</td>\n",
              "      <td>69</td>\n",
              "      <td>3</td>\n",
              "      <td>65.70</td>\n",
              "      <td>4973.30</td>\n",
              "      <td>One year</td>\n",
              "      <td>Bank transfer</td>\n",
              "      <td>0</td>\n",
              "      <td>N/A - The customer has not churned.</td>\n",
              "      <td>Provide a loyalty discount of 15% on monthly c...</td>\n",
              "      <td>1979.20</td>\n",
              "    </tr>\n",
              "    <tr>\n",
              "      <th>2</th>\n",
              "      <td>C0003</td>\n",
              "      <td>46</td>\n",
              "      <td>7</td>\n",
              "      <td>64.44</td>\n",
              "      <td>2402.73</td>\n",
              "      <td>Month-to-month</td>\n",
              "      <td>Credit card</td>\n",
              "      <td>0</td>\n",
              "      <td>Not applicable since the customer is currently...</td>\n",
              "      <td>Offer a loyalty discount of 15% for the next 6...</td>\n",
              "      <td>3802.73</td>\n",
              "    </tr>\n",
              "    <tr>\n",
              "      <th>3</th>\n",
              "      <td>C0004</td>\n",
              "      <td>32</td>\n",
              "      <td>6</td>\n",
              "      <td>145.33</td>\n",
              "      <td>1469.85</td>\n",
              "      <td>Two year</td>\n",
              "      <td>Electronic check</td>\n",
              "      <td>0</td>\n",
              "      <td>Low satisfaction with service quality due to h...</td>\n",
              "      <td>Offer a promotional rate of $120/month for the...</td>\n",
              "      <td>1200.00</td>\n",
              "    </tr>\n",
              "    <tr>\n",
              "      <th>4</th>\n",
              "      <td>C0005</td>\n",
              "      <td>60</td>\n",
              "      <td>8</td>\n",
              "      <td>148.21</td>\n",
              "      <td>4429.12</td>\n",
              "      <td>Month-to-month</td>\n",
              "      <td>Bank transfer</td>\n",
              "      <td>1</td>\n",
              "      <td>High monthly charges and a month-to-month cont...</td>\n",
              "      <td>Offer a discounted rate of $120 per month for ...</td>\n",
              "      <td>6205.44</td>\n",
              "    </tr>\n",
              "  </tbody>\n",
              "</table>\n",
              "</div>"
            ],
            "text/plain": [
              "  CustomerID  Age  Tenure  MonthlyCharges  TotalCharges        Contract  \\\n",
              "0      C0001   56       9           31.68        313.66        One year   \n",
              "1      C0002   69       3           65.70       4973.30        One year   \n",
              "2      C0003   46       7           64.44       2402.73  Month-to-month   \n",
              "3      C0004   32       6          145.33       1469.85        Two year   \n",
              "4      C0005   60       8          148.21       4429.12  Month-to-month   \n",
              "\n",
              "      PaymentMethod  Churn                                        ChurnReason  \\\n",
              "0  Electronic check      0  N/A - Customer is currently not at risk of chu...   \n",
              "1     Bank transfer      0                N/A - The customer has not churned.   \n",
              "2       Credit card      0  Not applicable since the customer is currently...   \n",
              "3  Electronic check      0  Low satisfaction with service quality due to h...   \n",
              "4     Bank transfer      1  High monthly charges and a month-to-month cont...   \n",
              "\n",
              "                                      RetentionOffer  EstimatedLTV  \n",
              "0  Offer a loyalty discount of 10% on monthly cha...        380.00  \n",
              "1  Provide a loyalty discount of 15% on monthly c...       1979.20  \n",
              "2  Offer a loyalty discount of 15% for the next 6...       3802.73  \n",
              "3  Offer a promotional rate of $120/month for the...       1200.00  \n",
              "4  Offer a discounted rate of $120 per month for ...       6205.44  "
            ]
          },
          "metadata": {},
          "output_type": "display_data"
        }
      ],
      "source": [
        "augment_prompt = \"\"\"\n",
        "Based on the customer's age, tenure, monthly charges, total charges, contract type, and payment method, suggest:\n",
        "1. A likely reason for churn (if applicable)\n",
        "2. A personalized retention offer\n",
        "3. The customer's estimated lifetime value (in dollars)\n",
        "\n",
        "Respond with a JSON object with keys 'ChurnReason', 'RetentionOffer', and 'EstimatedLTV'.\n",
        "\"\"\"\n",
        "\n",
        "augmented_df = augini.augment_columns(df, ['ChurnReason', 'RetentionOffer', 'EstimatedLTV'], custom_prompt=augment_prompt)\n",
        "\n",
        "print(\"\\nAugmented Dataset:\")\n",
        "display(augmented_df.head())"
      ]
    },
    {
      "cell_type": "code",
      "execution_count": 4,
      "metadata": {
        "colab": {
          "base_uri": "https://localhost:8080/"
        },
        "id": "qIGNbDcq1K_J",
        "outputId": "fdb18839-9a15-4dd9-fb50-412d950c65f8"
      },
      "outputs": [
        {
          "name": "stdout",
          "output_type": "stream",
          "text": [
            "\n",
            "Example Augmented Data:\n",
            "\n",
            "Customer ID: C0001\n",
            "Age: 56, Tenure: 9, Monthly Charges: $31.68\n",
            "Contract: One year, Churn: No\n",
            "Churn Reason: N/A - Customer is currently not at risk of churning.\n",
            "Retention Offer: Offer a loyalty discount of 10% on monthly charges for the next 6 months.\n",
            "Estimated LTV: $380.00\n",
            "\n",
            "Customer ID: C0002\n",
            "Age: 69, Tenure: 3, Monthly Charges: $65.70\n",
            "Contract: One year, Churn: No\n",
            "Churn Reason: N/A - The customer has not churned.\n",
            "Retention Offer: Provide a loyalty discount of 15% on monthly charges for the next 6 months to encourage continued engagement.\n",
            "Estimated LTV: $1979.20\n",
            "\n",
            "Customer ID: C0003\n",
            "Age: 46, Tenure: 7, Monthly Charges: $64.44\n",
            "Contract: Month-to-month, Churn: No\n",
            "Churn Reason: Not applicable since the customer is currently retained and has a moderate tenure.\n",
            "Retention Offer: Offer a loyalty discount of 15% for the next 6 months for staying on a month-to-month contract.\n",
            "Estimated LTV: $3802.73\n"
          ]
        }
      ],
      "source": [
        "# After augmenting the dataset\n",
        "print(\"\\nExample Augmented Data:\")\n",
        "for i in range(3):\n",
        "    customer = augmented_df.iloc[i]\n",
        "    print(f\"\\nCustomer ID: {customer['CustomerID']}\")\n",
        "    print(f\"Age: {customer['Age']}, Tenure: {customer['Tenure']}, Monthly Charges: ${customer['MonthlyCharges']:.2f}\")\n",
        "    print(f\"Contract: {customer['Contract']}, Churn: {'Yes' if customer['Churn'] else 'No'}\")\n",
        "    print(f\"Churn Reason: {customer['ChurnReason']}\")\n",
        "    print(f\"Retention Offer: {customer['RetentionOffer']}\")\n",
        "    print(f\"Estimated LTV: ${customer['EstimatedLTV']:.2f}\")"
      ]
    },
    {
      "cell_type": "markdown",
      "metadata": {
        "id": "fLzTyj2t1g6W"
      },
      "source": [
        "Key Observations:\n",
        "\n",
        "- The **augini** generates personalized retention offers based on each customer's specific situation, considering factors like age, contract type, and perceived churn risk.\n",
        "- Estimated LTV varies significantly, highlighting the importance of tailored retention strategies for high-value customers.\n",
        "- The **augini** identifies potential churn reasons even for non-churned customers, allowing for proactive retention efforts.\n",
        "- The retention offers are designed to address the specific concerns or risk factors identified for each customer."
      ]
    },
    {
      "cell_type": "markdown",
      "metadata": {
        "id": "uEV4_dqn43NY"
      },
      "source": [
        "# 2. Data Analysis and Visualization"
      ]
    },
    {
      "cell_type": "code",
      "execution_count": null,
      "metadata": {
        "colab": {
          "base_uri": "https://localhost:8080/",
          "height": 1000
        },
        "id": "I3f4jLe30Cpb",
        "outputId": "2cf15aae-b771-424f-f0e2-d038032ea393"
      },
      "outputs": [],
      "source": [
        "plt.figure(figsize=(16, 12))\n",
        "\n",
        "# Churn rate by contract type\n",
        "plt.subplot(2, 2, 1)\n",
        "sns.countplot(data=df, x='Contract', hue='Churn')\n",
        "plt.title('Churn Rate by Contract Type')\n",
        "\n",
        "# Monthly charges distribution for churned vs non-churned customers\n",
        "plt.subplot(2, 2, 2)\n",
        "sns.histplot(data=df, x='MonthlyCharges', hue='Churn', kde=True)\n",
        "plt.title('Monthly Charges Distribution')\n",
        "\n",
        "# Tenure vs Churn\n",
        "plt.subplot(2, 2, 3)\n",
        "sns.boxplot(data=df, x='Churn', y='Tenure')\n",
        "plt.title('Tenure vs Churn')\n",
        "\n",
        "# Correlation heatmap\n",
        "plt.subplot(2, 2, 4)\n",
        "corr_matrix = df[['Age', 'Tenure', 'MonthlyCharges', 'TotalCharges', 'Churn']].corr()\n",
        "sns.heatmap(corr_matrix, annot=True, cmap='coolwarm')\n",
        "plt.title('Correlation Heatmap')\n",
        "\n",
        "plt.tight_layout()\n",
        "plt.show()"
      ]
    },
    {
      "cell_type": "markdown",
      "metadata": {
        "id": "L-TFPflQ401f"
      },
      "source": [
        "# 3. Churn Prediction Model"
      ]
    },
    {
      "cell_type": "code",
      "execution_count": null,
      "metadata": {
        "colab": {
          "base_uri": "https://localhost:8080/",
          "height": 755
        },
        "id": "R1kYfza10CsT",
        "outputId": "6177d709-edba-4976-95e6-a5583a20cec9"
      },
      "outputs": [],
      "source": [
        "features = ['Age', 'Tenure', 'MonthlyCharges', 'TotalCharges']\n",
        "X = df[features]\n",
        "y = df['Churn']\n",
        "\n",
        "X_train, X_test, y_train, y_test = train_test_split(X, y, test_size=0.2, random_state=42)\n",
        "\n",
        "model = RandomForestClassifier(n_estimators=100, random_state=42)\n",
        "model.fit(X_train, y_train)\n",
        "\n",
        "y_pred = model.predict(X_test)\n",
        "\n",
        "print(\"\\nChurn Prediction Model Performance:\")\n",
        "print(classification_report(y_test, y_pred))\n",
        "\n",
        "# 4. Feature Importance\n",
        "feature_importance = pd.DataFrame({\n",
        "    'feature': features,\n",
        "    'importance': model.feature_importances_\n",
        "}).sort_values('importance', ascending=False)\n",
        "\n",
        "plt.figure(figsize=(10, 6))\n",
        "sns.barplot(x='importance', y='feature', data=feature_importance)\n",
        "plt.title('Feature Importance for Churn Prediction')\n",
        "plt.show()\n",
        "\n"
      ]
    },
    {
      "cell_type": "markdown",
      "metadata": {
        "id": "ckRZiWDd4ysN"
      },
      "source": [
        "# 5. Insights Generation using Augini"
      ]
    },
    {
      "cell_type": "code",
      "execution_count": 8,
      "metadata": {
        "id": "g2Q2g6WB1wWq"
      },
      "outputs": [],
      "source": [
        "insights_prompt = \"\"\"\n",
        "Based on the customer churn analysis, provide three key insights about customer behavior, churn patterns, and potential retention strategies.\n",
        "Consider factors such as contract types, payment methods, tenure, and charges.\n",
        "\n",
        "Respond with a JSON object with keys 'Insight1', 'Insight2', and 'Insight3'.\n",
        "\"\"\"\n",
        "\n",
        "# Use augment_single with the entire DataFrame\n",
        "insights = augini.augment_single(augmented_df.head(4), 'Insights', custom_prompt=insights_prompt)"
      ]
    },
    {
      "cell_type": "code",
      "execution_count": null,
      "metadata": {
        "colab": {
          "base_uri": "https://localhost:8080/",
          "height": 244
        },
        "id": "dop_1RAM3zd5",
        "outputId": "f2aa5d90-2585-4bc8-84fb-044bf345f32a"
      },
      "outputs": [],
      "source": [
        "insights.head()"
      ]
    },
    {
      "cell_type": "code",
      "execution_count": null,
      "metadata": {
        "colab": {
          "base_uri": "https://localhost:8080/"
        },
        "id": "1K0q2Xn13k3L",
        "outputId": "528f4590-1a07-4875-c4f7-3ec3438a5792"
      },
      "outputs": [],
      "source": [
        "print(\"Insights from the first 3 rows:\")\n",
        "for i in range(3):\n",
        "    insight = insights['Insights'].iloc[i]\n",
        "    print(f\"\\nRow {i + 1}:\")\n",
        "    if isinstance(insight, dict):\n",
        "        for key, value in insight.items():\n",
        "            print(f\"{key}: {value}\")\n",
        "    else:\n",
        "        print(\"Unexpected data type. Raw insight:\")\n",
        "        print(insight)\n",
        "    print(\"-\" * 50)  # Separator between rows"
      ]
    },
    {
      "cell_type": "markdown",
      "metadata": {
        "id": "6LkVTHqE4iiP"
      },
      "source": [
        "# 6. Retention Strategy Recommendations"
      ]
    },
    {
      "cell_type": "code",
      "execution_count": 11,
      "metadata": {
        "id": "LC6enbz119I4"
      },
      "outputs": [],
      "source": [
        "strategy_prompt = \"\"\"\n",
        "Based on the churn analysis and generated insights, provide three strategic recommendations to reduce customer churn and improve retention.\n",
        "Consider personalized offers, pricing strategies, contract adjustments, and customer engagement initiatives.\n",
        "\n",
        "Respond with a JSON object with keys 'Strategy1', 'Strategy2', 'Strategy3'.\n",
        "\"\"\"\n",
        "\n",
        "strategies = augini.augment_single(augmented_df.head(4), 'Strategies', custom_prompt=strategy_prompt)"
      ]
    },
    {
      "cell_type": "code",
      "execution_count": null,
      "metadata": {
        "colab": {
          "base_uri": "https://localhost:8080/"
        },
        "id": "EG7IKvcT2hrT",
        "outputId": "da34c345-d585-4911-cda6-ffd4399e5792"
      },
      "outputs": [],
      "source": [
        "# Assuming your DataFrame is named 'insights'\n",
        "print(\"Strategies from the first 3 rows:\")\n",
        "for i in range(3):\n",
        "    insight = strategies['Strategies'].iloc[i]\n",
        "    print(f\"\\nRow {i + 1}:\")\n",
        "    if isinstance(insight, dict):\n",
        "        for key, value in insight.items():\n",
        "            print(f\"{key}: {value}\")\n",
        "    else:\n",
        "        print(\"Unexpected data type. Raw insight:\")\n",
        "        print(insight)\n",
        "    print(\"-\" * 50)  # Separator between rows"
      ]
    },
    {
      "cell_type": "markdown",
      "metadata": {
        "id": "HXIuCOqp55Yy"
      },
      "source": [
        "# Summary of Retention Strategies\n",
        "\n",
        "## Strategy 1: Personalized Offers and Loyalty Programs\n",
        "\n",
        "- **Long-term Customers**: Implement a personalized loyalty discount program, offering up to 15% off monthly charges for customers with 9+ years tenure.\n",
        "- **Age-based Targeting**: Tailor offers based on age demographics, particularly for senior customers.\n",
        "- **Contract Commitment**: Encourage month-to-month customers to switch to longer-term plans with incentives like discounted rates (e.g., $54.44/month for 6 months on a 12-month contract).\n",
        "\n",
        "## Strategy 2: Flexible and Tiered Pricing\n",
        "\n",
        "- **Usage-based Plans**: Introduce flexible pricing options that align with different usage patterns and customer needs.\n",
        "- **Senior-friendly Options**: Develop tiered pricing that caters specifically to senior citizens' budgets and service requirements.\n",
        "- **Competitive Alignment**: Analyze the market to ensure prices reflect perceived value and introduce loyalty rewards for long-term customers.\n",
        "\n",
        "## Strategy 3: Enhanced Customer Engagement\n",
        "\n",
        "- **Proactive Communication**: Establish regular check-ins with customers to address concerns and offer personalized solutions.\n",
        "- **Feedback Mechanism**: Implement quarterly customer satisfaction surveys to gather insights and preemptively address issues.\n",
        "- **Relationship Building**: Foster stronger connections through ongoing engagement initiatives and responsive customer service.\n",
        "\n",
        "These strategies focus on personalizing offers, creating flexible pricing structures, and improving customer engagement to reduce churn and enhance overall customer satisfaction."
      ]
    },
    {
      "cell_type": "markdown",
      "metadata": {},
      "source": [
        "## Chat Examples"
      ]
    },
    {
      "cell_type": "code",
      "execution_count": 5,
      "metadata": {},
      "outputs": [
        {
          "data": {
            "text/plain": [
              "'The summary statistics of the DataFrame are as follows: Age: count = 100.0, mean = 50.27, std = 19.18, min = 19.0, 25% = 34.75, 50% = 51.5, 75% = 68.0, max = 79.0; Tenure: count = 100.0, mean = 4.98, std = 2.92, min = 0.0, 25% = 2.0, 50% = 6.0, 75% = 7.25, max = 9.0; MonthlyCharges: count = 100.0, mean = 119.22, std = 49.41, min = 23.25, 25% = 77.87, 50% = 117.56, 75% = 161.95, max = 199.59; TotalCharges: count = 100.0, mean = 2253.31, std = 1454.11, min = 125.41, 25% = 1027.41, 50% = 2039.12, 75% = 3413.11, max = 4973.3; Churn: count = 100.0, mean = 0.36, std = 0.48, min = 0.0, 25% = 0.0, 50% = 0.0, 75% = 1.0, max = 1.0; EstimatedLTV: count = 100.0, mean = 4392.04, std = 4264.07, min = 207.3, 25% = 1230.42, 50% = 2512.58, 75% = 6269.04, max = 19644.0.'"
            ]
          },
          "execution_count": 5,
          "metadata": {},
          "output_type": "execute_result"
        }
      ],
      "source": [
        "augini.chat(\"What are the summary statistics?\", augmented_df)"
      ]
    },
    {
      "cell_type": "code",
      "execution_count": 6,
      "metadata": {},
      "outputs": [
        {
          "data": {
            "text/plain": [
              "\"The column names in the DataFrame are: ['CustomerID', 'Age', 'Tenure', 'MonthlyCharges', 'TotalCharges', 'Contract', 'PaymentMethod', 'Churn', 'ChurnReason', 'RetentionOffer', 'EstimatedLTV'].\""
            ]
          },
          "execution_count": 6,
          "metadata": {},
          "output_type": "execute_result"
        }
      ],
      "source": [
        "augini.chat(\"What are the column names?\", augmented_df)"
      ]
    },
    {
      "cell_type": "code",
      "execution_count": 7,
      "metadata": {},
      "outputs": [
        {
          "data": {
            "text/plain": [
              "'The summary statistics for the DataFrame are as follows: Age: count = 100.0, mean = 50.27, std = 19.18, min = 19.0, 25% = 34.75, 50% = 51.5, 75% = 68.0, max = 79.0; Tenure: count = 100.0, mean = 4.98, std = 2.92, min = 0.0, 25% = 2.0, 50% = 6.0, 75% = 7.25, max = 9.0; MonthlyCharges: count = 100.0, mean = 119.22, std = 49.41, min = 23.25, 25% = 77.87, 50% = 117.56, 75% = 161.95, max = 199.59; TotalCharges: count = 100.0, mean = 2253.31, std = 1454.11, min = 125.41, 25% = 1027.41, 50% = 2039.12, 75% = 3413.11, max = 4973.3; Churn: count = 100.0, mean = 0.36, std = 0.48, min = 0.0, 25% = 0.0, 50% = 0.0, 75% = 1.0, max = 1.0; EstimatedLTV: count = 100.0, mean = 4392.04, std = 4264.07, min = 207.3, 25% = 1230.42, 50% = 2512.58, 75% = 6269.04, max = 19644.0.'"
            ]
          },
          "execution_count": 7,
          "metadata": {},
          "output_type": "execute_result"
        }
      ],
      "source": [
        "augini.chat(\"Give me the summary statistics.\", augmented_df)"
      ]
    },
    {
      "cell_type": "code",
      "execution_count": 8,
      "metadata": {},
      "outputs": [
        {
          "data": {
            "text/plain": [
              "[{'query': 'What are the summary statistics?',\n",
              "  'response': 'The summary statistics of the DataFrame are as follows: Age: count = 100.0, mean = 50.27, std = 19.18, min = 19.0, 25% = 34.75, 50% = 51.5, 75% = 68.0, max = 79.0; Tenure: count = 100.0, mean = 4.98, std = 2.92, min = 0.0, 25% = 2.0, 50% = 6.0, 75% = 7.25, max = 9.0; MonthlyCharges: count = 100.0, mean = 119.22, std = 49.41, min = 23.25, 25% = 77.87, 50% = 117.56, 75% = 161.95, max = 199.59; TotalCharges: count = 100.0, mean = 2253.31, std = 1454.11, min = 125.41, 25% = 1027.41, 50% = 2039.12, 75% = 3413.11, max = 4973.3; Churn: count = 100.0, mean = 0.36, std = 0.48, min = 0.0, 25% = 0.0, 50% = 0.0, 75% = 1.0, max = 1.0; EstimatedLTV: count = 100.0, mean = 4392.04, std = 4264.07, min = 207.3, 25% = 1230.42, 50% = 2512.58, 75% = 6269.04, max = 19644.0.',\n",
              "  'df_context': {'columns': ['CustomerID',\n",
              "    'Age',\n",
              "    'Tenure',\n",
              "    'MonthlyCharges',\n",
              "    'TotalCharges',\n",
              "    'Contract',\n",
              "    'PaymentMethod',\n",
              "    'Churn',\n",
              "    'ChurnReason',\n",
              "    'RetentionOffer',\n",
              "    'EstimatedLTV'],\n",
              "   'shape': (100, 11),\n",
              "   'column_types': {'CustomerID': dtype('O'),\n",
              "    'Age': dtype('int64'),\n",
              "    'Tenure': dtype('int64'),\n",
              "    'MonthlyCharges': dtype('float64'),\n",
              "    'TotalCharges': dtype('float64'),\n",
              "    'Contract': dtype('O'),\n",
              "    'PaymentMethod': dtype('O'),\n",
              "    'Churn': dtype('int64'),\n",
              "    'ChurnReason': dtype('O'),\n",
              "    'RetentionOffer': dtype('O'),\n",
              "    'EstimatedLTV': dtype('float64')},\n",
              "   'summary_stats': {'Age': {'count': 100.0,\n",
              "     'mean': 50.27,\n",
              "     'std': 19.176403323992858,\n",
              "     'min': 19.0,\n",
              "     '25%': 34.75,\n",
              "     '50%': 51.5,\n",
              "     '75%': 68.0,\n",
              "     'max': 79.0},\n",
              "    'Tenure': {'count': 100.0,\n",
              "     'mean': 4.98,\n",
              "     'std': 2.923191835143651,\n",
              "     'min': 0.0,\n",
              "     '25%': 2.0,\n",
              "     '50%': 6.0,\n",
              "     '75%': 7.25,\n",
              "     'max': 9.0},\n",
              "    'MonthlyCharges': {'count': 100.0,\n",
              "     'mean': 119.22269999999999,\n",
              "     'std': 49.41333866569744,\n",
              "     'min': 23.25,\n",
              "     '25%': 77.86500000000001,\n",
              "     '50%': 117.56,\n",
              "     '75%': 161.945,\n",
              "     'max': 199.59},\n",
              "    'TotalCharges': {'count': 100.0,\n",
              "     'mean': 2253.3133,\n",
              "     'std': 1454.114921906526,\n",
              "     'min': 125.41,\n",
              "     '25%': 1027.405,\n",
              "     '50%': 2039.115,\n",
              "     '75%': 3413.1099999999997,\n",
              "     'max': 4973.3},\n",
              "    'Churn': {'count': 100.0,\n",
              "     'mean': 0.36,\n",
              "     'std': 0.4824181513244218,\n",
              "     'min': 0.0,\n",
              "     '25%': 0.0,\n",
              "     '50%': 0.0,\n",
              "     '75%': 1.0,\n",
              "     'max': 1.0},\n",
              "    'EstimatedLTV': {'count': 100.0,\n",
              "     'mean': 4392.036100000001,\n",
              "     'std': 4264.066388602064,\n",
              "     'min': 207.3,\n",
              "     '25%': 1230.42,\n",
              "     '50%': 2512.58,\n",
              "     '75%': 6269.035,\n",
              "     'max': 19644.0}}}},\n",
              " {'query': 'What are the column names?',\n",
              "  'response': \"The column names in the DataFrame are: ['CustomerID', 'Age', 'Tenure', 'MonthlyCharges', 'TotalCharges', 'Contract', 'PaymentMethod', 'Churn', 'ChurnReason', 'RetentionOffer', 'EstimatedLTV'].\",\n",
              "  'df_context': {'columns': ['CustomerID',\n",
              "    'Age',\n",
              "    'Tenure',\n",
              "    'MonthlyCharges',\n",
              "    'TotalCharges',\n",
              "    'Contract',\n",
              "    'PaymentMethod',\n",
              "    'Churn',\n",
              "    'ChurnReason',\n",
              "    'RetentionOffer',\n",
              "    'EstimatedLTV'],\n",
              "   'shape': (100, 11),\n",
              "   'column_types': {'CustomerID': dtype('O'),\n",
              "    'Age': dtype('int64'),\n",
              "    'Tenure': dtype('int64'),\n",
              "    'MonthlyCharges': dtype('float64'),\n",
              "    'TotalCharges': dtype('float64'),\n",
              "    'Contract': dtype('O'),\n",
              "    'PaymentMethod': dtype('O'),\n",
              "    'Churn': dtype('int64'),\n",
              "    'ChurnReason': dtype('O'),\n",
              "    'RetentionOffer': dtype('O'),\n",
              "    'EstimatedLTV': dtype('float64')},\n",
              "   'summary_stats': {'Age': {'count': 100.0,\n",
              "     'mean': 50.27,\n",
              "     'std': 19.176403323992858,\n",
              "     'min': 19.0,\n",
              "     '25%': 34.75,\n",
              "     '50%': 51.5,\n",
              "     '75%': 68.0,\n",
              "     'max': 79.0},\n",
              "    'Tenure': {'count': 100.0,\n",
              "     'mean': 4.98,\n",
              "     'std': 2.923191835143651,\n",
              "     'min': 0.0,\n",
              "     '25%': 2.0,\n",
              "     '50%': 6.0,\n",
              "     '75%': 7.25,\n",
              "     'max': 9.0},\n",
              "    'MonthlyCharges': {'count': 100.0,\n",
              "     'mean': 119.22269999999999,\n",
              "     'std': 49.41333866569744,\n",
              "     'min': 23.25,\n",
              "     '25%': 77.86500000000001,\n",
              "     '50%': 117.56,\n",
              "     '75%': 161.945,\n",
              "     'max': 199.59},\n",
              "    'TotalCharges': {'count': 100.0,\n",
              "     'mean': 2253.3133,\n",
              "     'std': 1454.114921906526,\n",
              "     'min': 125.41,\n",
              "     '25%': 1027.405,\n",
              "     '50%': 2039.115,\n",
              "     '75%': 3413.1099999999997,\n",
              "     'max': 4973.3},\n",
              "    'Churn': {'count': 100.0,\n",
              "     'mean': 0.36,\n",
              "     'std': 0.4824181513244218,\n",
              "     'min': 0.0,\n",
              "     '25%': 0.0,\n",
              "     '50%': 0.0,\n",
              "     '75%': 1.0,\n",
              "     'max': 1.0},\n",
              "    'EstimatedLTV': {'count': 100.0,\n",
              "     'mean': 4392.036100000001,\n",
              "     'std': 4264.066388602064,\n",
              "     'min': 207.3,\n",
              "     '25%': 1230.42,\n",
              "     '50%': 2512.58,\n",
              "     '75%': 6269.035,\n",
              "     'max': 19644.0}}}},\n",
              " {'query': 'Give me the summary statistics.',\n",
              "  'response': 'The summary statistics for the DataFrame are as follows: Age: count = 100.0, mean = 50.27, std = 19.18, min = 19.0, 25% = 34.75, 50% = 51.5, 75% = 68.0, max = 79.0; Tenure: count = 100.0, mean = 4.98, std = 2.92, min = 0.0, 25% = 2.0, 50% = 6.0, 75% = 7.25, max = 9.0; MonthlyCharges: count = 100.0, mean = 119.22, std = 49.41, min = 23.25, 25% = 77.87, 50% = 117.56, 75% = 161.95, max = 199.59; TotalCharges: count = 100.0, mean = 2253.31, std = 1454.11, min = 125.41, 25% = 1027.41, 50% = 2039.12, 75% = 3413.11, max = 4973.3; Churn: count = 100.0, mean = 0.36, std = 0.48, min = 0.0, 25% = 0.0, 50% = 0.0, 75% = 1.0, max = 1.0; EstimatedLTV: count = 100.0, mean = 4392.04, std = 4264.07, min = 207.3, 25% = 1230.42, 50% = 2512.58, 75% = 6269.04, max = 19644.0.',\n",
              "  'df_context': {'columns': ['CustomerID',\n",
              "    'Age',\n",
              "    'Tenure',\n",
              "    'MonthlyCharges',\n",
              "    'TotalCharges',\n",
              "    'Contract',\n",
              "    'PaymentMethod',\n",
              "    'Churn',\n",
              "    'ChurnReason',\n",
              "    'RetentionOffer',\n",
              "    'EstimatedLTV'],\n",
              "   'shape': (100, 11),\n",
              "   'column_types': {'CustomerID': dtype('O'),\n",
              "    'Age': dtype('int64'),\n",
              "    'Tenure': dtype('int64'),\n",
              "    'MonthlyCharges': dtype('float64'),\n",
              "    'TotalCharges': dtype('float64'),\n",
              "    'Contract': dtype('O'),\n",
              "    'PaymentMethod': dtype('O'),\n",
              "    'Churn': dtype('int64'),\n",
              "    'ChurnReason': dtype('O'),\n",
              "    'RetentionOffer': dtype('O'),\n",
              "    'EstimatedLTV': dtype('float64')},\n",
              "   'summary_stats': {'Age': {'count': 100.0,\n",
              "     'mean': 50.27,\n",
              "     'std': 19.176403323992858,\n",
              "     'min': 19.0,\n",
              "     '25%': 34.75,\n",
              "     '50%': 51.5,\n",
              "     '75%': 68.0,\n",
              "     'max': 79.0},\n",
              "    'Tenure': {'count': 100.0,\n",
              "     'mean': 4.98,\n",
              "     'std': 2.923191835143651,\n",
              "     'min': 0.0,\n",
              "     '25%': 2.0,\n",
              "     '50%': 6.0,\n",
              "     '75%': 7.25,\n",
              "     'max': 9.0},\n",
              "    'MonthlyCharges': {'count': 100.0,\n",
              "     'mean': 119.22269999999999,\n",
              "     'std': 49.41333866569744,\n",
              "     'min': 23.25,\n",
              "     '25%': 77.86500000000001,\n",
              "     '50%': 117.56,\n",
              "     '75%': 161.945,\n",
              "     'max': 199.59},\n",
              "    'TotalCharges': {'count': 100.0,\n",
              "     'mean': 2253.3133,\n",
              "     'std': 1454.114921906526,\n",
              "     'min': 125.41,\n",
              "     '25%': 1027.405,\n",
              "     '50%': 2039.115,\n",
              "     '75%': 3413.1099999999997,\n",
              "     'max': 4973.3},\n",
              "    'Churn': {'count': 100.0,\n",
              "     'mean': 0.36,\n",
              "     'std': 0.4824181513244218,\n",
              "     'min': 0.0,\n",
              "     '25%': 0.0,\n",
              "     '50%': 0.0,\n",
              "     '75%': 1.0,\n",
              "     'max': 1.0},\n",
              "    'EstimatedLTV': {'count': 100.0,\n",
              "     'mean': 4392.036100000001,\n",
              "     'std': 4264.066388602064,\n",
              "     'min': 207.3,\n",
              "     '25%': 1230.42,\n",
              "     '50%': 2512.58,\n",
              "     '75%': 6269.035,\n",
              "     'max': 19644.0}}}}]"
            ]
          },
          "execution_count": 8,
          "metadata": {},
          "output_type": "execute_result"
        }
      ],
      "source": [
        "augini.conversation_history"
      ]
    },
    {
      "cell_type": "code",
      "execution_count": null,
      "metadata": {},
      "outputs": [],
      "source": []
    }
  ],
  "metadata": {
    "colab": {
      "provenance": []
    },
    "kernelspec": {
      "display_name": ".venv",
      "language": "python",
      "name": "python3"
    },
    "language_info": {
      "codemirror_mode": {
        "name": "ipython",
        "version": 3
      },
      "file_extension": ".py",
      "mimetype": "text/x-python",
      "name": "python",
      "nbconvert_exporter": "python",
      "pygments_lexer": "ipython3",
      "version": "3.8.10"
    }
  },
  "nbformat": 4,
  "nbformat_minor": 0
}
