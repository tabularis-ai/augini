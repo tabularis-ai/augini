{
  "cells": [
    {
      "cell_type": "code",
      "execution_count": 5,
      "metadata": {
        "colab": {
          "base_uri": "https://localhost:8080/"
        },
        "id": "WOCb9PQGk-Fn",
        "outputId": "d4ef23c5-8396-4214-a343-399c790698d4"
      },
      "outputs": [
        {
          "name": "stdout",
          "output_type": "stream",
          "text": [
            "Requirement already satisfied: augini in /home/vadim/miniconda3/lib/python3.11/site-packages (0.2.2)\n",
            "Requirement already satisfied: openai>=1.35.13 in /home/vadim/miniconda3/lib/python3.11/site-packages (from augini) (1.35.13)\n",
            "Requirement already satisfied: pandas>=2.0.0 in /home/vadim/miniconda3/lib/python3.11/site-packages (from augini) (2.2.2)\n",
            "Requirement already satisfied: numpy<2.0.0 in /home/vadim/miniconda3/lib/python3.11/site-packages (from augini) (1.26.4)\n",
            "Requirement already satisfied: tqdm>=4.65.0 in /home/vadim/miniconda3/lib/python3.11/site-packages (from augini) (4.66.4)\n",
            "Requirement already satisfied: nest_asyncio>=1.5.6 in /home/vadim/miniconda3/lib/python3.11/site-packages (from augini) (1.6.0)\n",
            "Requirement already satisfied: pydantic>=2.0.0 in /home/vadim/miniconda3/lib/python3.11/site-packages (from augini) (2.8.2)\n",
            "Requirement already satisfied: PyYAML>=6.0.0 in /home/vadim/miniconda3/lib/python3.11/site-packages (from augini) (6.0.1)\n",
            "Requirement already satisfied: python-dotenv>=1.0.0 in /home/vadim/miniconda3/lib/python3.11/site-packages (from augini) (1.0.1)\n",
            "Requirement already satisfied: anyio<5,>=3.5.0 in /home/vadim/miniconda3/lib/python3.11/site-packages (from openai>=1.35.13->augini) (4.6.0)\n",
            "Requirement already satisfied: distro<2,>=1.7.0 in /home/vadim/miniconda3/lib/python3.11/site-packages (from openai>=1.35.13->augini) (1.9.0)\n",
            "Requirement already satisfied: httpx<1,>=0.23.0 in /home/vadim/miniconda3/lib/python3.11/site-packages (from openai>=1.35.13->augini) (0.27.2)\n",
            "Requirement already satisfied: sniffio in /home/vadim/miniconda3/lib/python3.11/site-packages (from openai>=1.35.13->augini) (1.3.1)\n",
            "Requirement already satisfied: typing-extensions<5,>=4.7 in /home/vadim/miniconda3/lib/python3.11/site-packages (from openai>=1.35.13->augini) (4.12.2)\n",
            "Requirement already satisfied: python-dateutil>=2.8.2 in /home/vadim/miniconda3/lib/python3.11/site-packages (from pandas>=2.0.0->augini) (2.9.0.post0)\n",
            "Requirement already satisfied: pytz>=2020.1 in /home/vadim/miniconda3/lib/python3.11/site-packages (from pandas>=2.0.0->augini) (2024.1)\n",
            "Requirement already satisfied: tzdata>=2022.7 in /home/vadim/miniconda3/lib/python3.11/site-packages (from pandas>=2.0.0->augini) (2024.1)\n",
            "Requirement already satisfied: annotated-types>=0.4.0 in /home/vadim/miniconda3/lib/python3.11/site-packages (from pydantic>=2.0.0->augini) (0.7.0)\n",
            "Requirement already satisfied: pydantic-core==2.20.1 in /home/vadim/miniconda3/lib/python3.11/site-packages (from pydantic>=2.0.0->augini) (2.20.1)\n",
            "Requirement already satisfied: idna>=2.8 in /home/vadim/miniconda3/lib/python3.11/site-packages (from anyio<5,>=3.5.0->openai>=1.35.13->augini) (3.10)\n",
            "Requirement already satisfied: certifi in /home/vadim/miniconda3/lib/python3.11/site-packages (from httpx<1,>=0.23.0->openai>=1.35.13->augini) (2024.8.30)\n",
            "Requirement already satisfied: httpcore==1.* in /home/vadim/miniconda3/lib/python3.11/site-packages (from httpx<1,>=0.23.0->openai>=1.35.13->augini) (1.0.5)\n",
            "Requirement already satisfied: h11<0.15,>=0.13 in /home/vadim/miniconda3/lib/python3.11/site-packages (from httpcore==1.*->httpx<1,>=0.23.0->openai>=1.35.13->augini) (0.14.0)\n",
            "Requirement already satisfied: six>=1.5 in /home/vadim/miniconda3/lib/python3.11/site-packages (from python-dateutil>=2.8.2->pandas>=2.0.0->augini) (1.16.0)\n",
            "Note: you may need to restart the kernel to use updated packages.\n"
          ]
        }
      ],
      "source": [
        "%pip install augini"
      ]
    },
    {
      "cell_type": "code",
      "execution_count": 1,
      "metadata": {
        "id": "JUeu9trLlA2m"
      },
      "outputs": [
        {
          "name": "stdout",
          "output_type": "stream",
          "text": [
            "Using API key from environment variable.\n"
          ]
        }
      ],
      "source": [
        "import pandas as pd\n",
        "import numpy as np\n",
        "import matplotlib.pyplot as plt\n",
        "import seaborn as sns\n",
        "from sklearn.model_selection import train_test_split\n",
        "from sklearn.ensemble import RandomForestClassifier\n",
        "from sklearn.metrics import classification_report\n",
        "import os\n",
        "import sys\n",
        "from augini import DataEngineer, DataAnalyzer\n",
        "\n",
        "# Input your api key\n",
        "def get_api_key():\n",
        "    api_key = os.environ.get('OPENROUTER_TOKEN')\n",
        "    if api_key:\n",
        "        print(\"Using API key from environment variable.\")\n",
        "        return api_key\n",
        "    else:\n",
        "        api_key = input(\"Enter your API key manually: \")\n",
        "        return api_key\n",
        "\n",
        "# Set up Augini components\n",
        "api_key = get_api_key()\n",
        "\n",
        "# Initialize both components with shared configuration\n",
        "engineer = DataEngineer(\n",
        "    api_key=api_key,\n",
        "    model=\"gpt-4o-mini\",  # Updated model name format\n",
        "    temperature=0.8,      # Default temperature for better results\n",
        "    max_tokens=750,       # Added parameter\n",
        "    concurrency_limit=10, # Increased for better performance\n",
        "    base_url=\"https://openrouter.ai/api/v1\",  # We can use openrouter \n",
        "    debug=False\n",
        ")\n"
      ]
    },
    {
      "cell_type": "code",
      "execution_count": 2,
      "metadata": {
        "colab": {
          "base_uri": "https://localhost:8080/",
          "height": 223
        },
        "id": "uxywx1Xm0ChV",
        "outputId": "271adf03-4f2c-4736-b2df-e3f0d1c26741"
      },
      "outputs": [
        {
          "name": "stdout",
          "output_type": "stream",
          "text": [
            "Original Dataset:\n"
          ]
        },
        {
          "data": {
            "text/html": [
              "<div>\n",
              "<style scoped>\n",
              "    .dataframe tbody tr th:only-of-type {\n",
              "        vertical-align: middle;\n",
              "    }\n",
              "\n",
              "    .dataframe tbody tr th {\n",
              "        vertical-align: top;\n",
              "    }\n",
              "\n",
              "    .dataframe thead th {\n",
              "        text-align: right;\n",
              "    }\n",
              "</style>\n",
              "<table border=\"1\" class=\"dataframe\">\n",
              "  <thead>\n",
              "    <tr style=\"text-align: right;\">\n",
              "      <th></th>\n",
              "      <th>CustomerID</th>\n",
              "      <th>Age</th>\n",
              "      <th>Tenure</th>\n",
              "      <th>MonthlyCharges</th>\n",
              "      <th>TotalCharges</th>\n",
              "      <th>Contract</th>\n",
              "      <th>PaymentMethod</th>\n",
              "      <th>Churn</th>\n",
              "    </tr>\n",
              "  </thead>\n",
              "  <tbody>\n",
              "    <tr>\n",
              "      <th>0</th>\n",
              "      <td>C0001</td>\n",
              "      <td>56</td>\n",
              "      <td>6</td>\n",
              "      <td>73.33</td>\n",
              "      <td>1170.36</td>\n",
              "      <td>Two year</td>\n",
              "      <td>Bank transfer</td>\n",
              "      <td>0</td>\n",
              "    </tr>\n",
              "    <tr>\n",
              "      <th>1</th>\n",
              "      <td>C0002</td>\n",
              "      <td>69</td>\n",
              "      <td>3</td>\n",
              "      <td>49.75</td>\n",
              "      <td>2140.90</td>\n",
              "      <td>One year</td>\n",
              "      <td>Electronic check</td>\n",
              "      <td>0</td>\n",
              "    </tr>\n",
              "    <tr>\n",
              "      <th>2</th>\n",
              "      <td>C0003</td>\n",
              "      <td>46</td>\n",
              "      <td>8</td>\n",
              "      <td>22.81</td>\n",
              "      <td>4428.07</td>\n",
              "      <td>Month-to-month</td>\n",
              "      <td>Electronic check</td>\n",
              "      <td>0</td>\n",
              "    </tr>\n",
              "    <tr>\n",
              "      <th>3</th>\n",
              "      <td>C0004</td>\n",
              "      <td>32</td>\n",
              "      <td>2</td>\n",
              "      <td>96.21</td>\n",
              "      <td>1689.29</td>\n",
              "      <td>Two year</td>\n",
              "      <td>Mailed check</td>\n",
              "      <td>1</td>\n",
              "    </tr>\n",
              "    <tr>\n",
              "      <th>4</th>\n",
              "      <td>C0005</td>\n",
              "      <td>60</td>\n",
              "      <td>4</td>\n",
              "      <td>91.08</td>\n",
              "      <td>698.23</td>\n",
              "      <td>Two year</td>\n",
              "      <td>Credit card</td>\n",
              "      <td>0</td>\n",
              "    </tr>\n",
              "  </tbody>\n",
              "</table>\n",
              "</div>"
            ],
            "text/plain": [
              "  CustomerID  Age  Tenure  MonthlyCharges  TotalCharges        Contract  \\\n",
              "0      C0001   56       6           73.33       1170.36        Two year   \n",
              "1      C0002   69       3           49.75       2140.90        One year   \n",
              "2      C0003   46       8           22.81       4428.07  Month-to-month   \n",
              "3      C0004   32       2           96.21       1689.29        Two year   \n",
              "4      C0005   60       4           91.08        698.23        Two year   \n",
              "\n",
              "      PaymentMethod  Churn  \n",
              "0     Bank transfer      0  \n",
              "1  Electronic check      0  \n",
              "2  Electronic check      0  \n",
              "3      Mailed check      1  \n",
              "4       Credit card      0  "
            ]
          },
          "metadata": {},
          "output_type": "display_data"
        }
      ],
      "source": [
        "# Create a sample customer dataset\n",
        "np.random.seed(42)\n",
        "n_customers = 50\n",
        "\n",
        "data = {\n",
        "    'CustomerID': [f'C{i:04d}' for i in range(1, n_customers + 1)],\n",
        "    'Age': np.random.randint(18, 80, n_customers),\n",
        "    'Tenure': np.random.randint(0, 10, n_customers),\n",
        "    'MonthlyCharges': np.random.uniform(20, 200, n_customers).round(2),\n",
        "    'TotalCharges': np.random.uniform(100, 5000, n_customers).round(2),\n",
        "    'Contract': np.random.choice(['Month-to-month', 'One year', 'Two year'], n_customers),\n",
        "    'PaymentMethod': np.random.choice(['Electronic check', 'Mailed check', 'Bank transfer', 'Credit card'], n_customers),\n",
        "    'Churn': np.random.choice([0, 1], n_customers, p=[0.7, 0.3])  # 30% churn rate\n",
        "}\n",
        "\n",
        "df = pd.DataFrame(data)\n",
        "\n",
        "print(\"Original Dataset:\")\n",
        "display(df.head())"
      ]
    },
    {
      "cell_type": "markdown",
      "metadata": {
        "id": "BaOf6Klh450G"
      },
      "source": [
        "# 1. Data Augmentation: Add synthetic features using Augini"
      ]
    },
    {
      "cell_type": "code",
      "execution_count": 6,
      "metadata": {},
      "outputs": [
        {
          "data": {
            "application/vnd.jupyter.widget-view+json": {
              "model_id": "a8bbf5355c0c496e88b6f31215034dfe",
              "version_major": 2,
              "version_minor": 0
            },
            "text/plain": [
              "  0%|          | 0/50 [00:00<?, ?it/s]"
            ]
          },
          "metadata": {},
          "output_type": "display_data"
        }
      ],
      "source": [
        "# Example 1\n",
        "df = engineer.generate_feature(\n",
        "    df=df,\n",
        "    name='PredictedOccupation',\n",
        "    description=\"Based on the customer's age and monthly spending patterns, suggest a likely occupation\",\n",
        "    output_type='text',\n",
        ")\n",
        "\n",
        "# # Example 2\n",
        "df = engineer.generate_feature(\n",
        "    df=df,\n",
        "    name='risk_score',\n",
        "    description='Calculate a risk score (0-100) based on customer behavior',\n",
        "    output_type='float',\n",
        "    constraints={'min': 0, 'max': 100}\n",
        ")\n",
        "\n",
        "# # Example 3: Single feature with sync processing\n",
        "df = engineer.generate_feature(\n",
        "    df=df,\n",
        "    name='customer_segment',\n",
        "    description='Classify customer into segments based on spending patterns',\n",
        "    output_type='category',\n",
        "    constraints={'categories': ['Premium', 'Regular', 'Budget']}\n",
        ")\n",
        "\n",
        "#  Example 4\n",
        "# df = engineer.generate_feature(\n",
        "#     df=df,\n",
        "#     name='profile_summary',\n",
        "#     description='Generate a brief description of customer profile and behavior',\n",
        "#     output_type='text'\n",
        "# )"
      ]
    },
    {
      "cell_type": "code",
      "execution_count": 8,
      "metadata": {},
      "outputs": [
        {
          "data": {
            "application/vnd.jupyter.widget-view+json": {
              "model_id": "acde2ccaded94d07a13635b697e12f1b",
              "version_major": 2,
              "version_minor": 0
            },
            "text/plain": [
              "  0%|          | 0/50 [00:00<?, ?it/s]"
            ]
          },
          "metadata": {},
          "output_type": "display_data"
        }
      ],
      "source": [
        "df = engineer.generate_feature(\n",
        "    df=df,\n",
        "    name='customer_segment',\n",
        "    description='Classify customer into segments based on spending patterns',\n",
        "    output_type='category',\n",
        "    constraints={'categories': ['Premium', 'Regular', 'Budget']}\n",
        ")"
      ]
    },
    {
      "cell_type": "code",
      "execution_count": 10,
      "metadata": {},
      "outputs": [
        {
          "data": {
            "application/vnd.jupyter.widget-view+json": {
              "model_id": "f80a9021076a4e8d89edb78d35f12574",
              "version_major": 2,
              "version_minor": 0
            },
            "text/plain": [
              "  0%|          | 0/50 [00:00<?, ?it/s]"
            ]
          },
          "metadata": {},
          "output_type": "display_data"
        }
      ],
      "source": [
        "df = engineer.generate_feature(\n",
        "    df=df,\n",
        "    name='profile_summary',\n",
        "    description='Generate a brief description of customer profile and behavior',\n",
        "    output_type='text'\n",
        ")"
      ]
    },
    {
      "cell_type": "code",
      "execution_count": 12,
      "metadata": {},
      "outputs": [
        {
          "data": {
            "text/html": [
              "<div>\n",
              "<style scoped>\n",
              "    .dataframe tbody tr th:only-of-type {\n",
              "        vertical-align: middle;\n",
              "    }\n",
              "\n",
              "    .dataframe tbody tr th {\n",
              "        vertical-align: top;\n",
              "    }\n",
              "\n",
              "    .dataframe thead th {\n",
              "        text-align: right;\n",
              "    }\n",
              "</style>\n",
              "<table border=\"1\" class=\"dataframe\">\n",
              "  <thead>\n",
              "    <tr style=\"text-align: right;\">\n",
              "      <th></th>\n",
              "      <th>CustomerID</th>\n",
              "      <th>Age</th>\n",
              "      <th>Tenure</th>\n",
              "      <th>MonthlyCharges</th>\n",
              "      <th>TotalCharges</th>\n",
              "      <th>Contract</th>\n",
              "      <th>PaymentMethod</th>\n",
              "      <th>Churn</th>\n",
              "      <th>PredictedOccupation</th>\n",
              "      <th>customer_segment</th>\n",
              "      <th>profile_summary</th>\n",
              "    </tr>\n",
              "  </thead>\n",
              "  <tbody>\n",
              "    <tr>\n",
              "      <th>0</th>\n",
              "      <td>C0001</td>\n",
              "      <td>56</td>\n",
              "      <td>6</td>\n",
              "      <td>73.33</td>\n",
              "      <td>1170.36</td>\n",
              "      <td>Two year</td>\n",
              "      <td>Bank transfer</td>\n",
              "      <td>0</td>\n",
              "      <td>Financial Analyst</td>\n",
              "      <td>Premium</td>\n",
              "      <td>Customer C0001 is a 56-year-old Financial Anal...</td>\n",
              "    </tr>\n",
              "    <tr>\n",
              "      <th>1</th>\n",
              "      <td>C0002</td>\n",
              "      <td>69</td>\n",
              "      <td>3</td>\n",
              "      <td>49.75</td>\n",
              "      <td>2140.90</td>\n",
              "      <td>One year</td>\n",
              "      <td>Electronic check</td>\n",
              "      <td>0</td>\n",
              "      <td>Retired Professional</td>\n",
              "      <td>Premium</td>\n",
              "      <td>Customer C0002 is a 69-year-old retired profes...</td>\n",
              "    </tr>\n",
              "    <tr>\n",
              "      <th>2</th>\n",
              "      <td>C0003</td>\n",
              "      <td>46</td>\n",
              "      <td>8</td>\n",
              "      <td>22.81</td>\n",
              "      <td>4428.07</td>\n",
              "      <td>Month-to-month</td>\n",
              "      <td>Electronic check</td>\n",
              "      <td>0</td>\n",
              "      <td>Mid-level Management</td>\n",
              "      <td>Budget</td>\n",
              "      <td>Customer C0003 is a 46-year-old individual wit...</td>\n",
              "    </tr>\n",
              "    <tr>\n",
              "      <th>3</th>\n",
              "      <td>C0004</td>\n",
              "      <td>32</td>\n",
              "      <td>2</td>\n",
              "      <td>96.21</td>\n",
              "      <td>1689.29</td>\n",
              "      <td>Two year</td>\n",
              "      <td>Mailed check</td>\n",
              "      <td>1</td>\n",
              "      <td>Young Professional</td>\n",
              "      <td>Premium</td>\n",
              "      <td>Customer C0004 is a 32-year-old young professi...</td>\n",
              "    </tr>\n",
              "    <tr>\n",
              "      <th>4</th>\n",
              "      <td>C0005</td>\n",
              "      <td>60</td>\n",
              "      <td>4</td>\n",
              "      <td>91.08</td>\n",
              "      <td>698.23</td>\n",
              "      <td>Two year</td>\n",
              "      <td>Credit card</td>\n",
              "      <td>0</td>\n",
              "      <td>Retired Professional</td>\n",
              "      <td>Premium</td>\n",
              "      <td>Customer C0005 is a 60-year-old retired profes...</td>\n",
              "    </tr>\n",
              "    <tr>\n",
              "      <th>5</th>\n",
              "      <td>C0006</td>\n",
              "      <td>25</td>\n",
              "      <td>2</td>\n",
              "      <td>72.83</td>\n",
              "      <td>1845.86</td>\n",
              "      <td>Two year</td>\n",
              "      <td>Mailed check</td>\n",
              "      <td>0</td>\n",
              "      <td>Customer Service Representative</td>\n",
              "      <td>Premium</td>\n",
              "      <td>Customer C0006 is a 25-year-old individual wit...</td>\n",
              "    </tr>\n",
              "    <tr>\n",
              "      <th>6</th>\n",
              "      <td>C0007</td>\n",
              "      <td>78</td>\n",
              "      <td>6</td>\n",
              "      <td>22.53</td>\n",
              "      <td>4543.46</td>\n",
              "      <td>One year</td>\n",
              "      <td>Mailed check</td>\n",
              "      <td>0</td>\n",
              "      <td>Retired</td>\n",
              "      <td>Budget</td>\n",
              "      <td>Customer ID C0007 is a 78-year-old individual ...</td>\n",
              "    </tr>\n",
              "    <tr>\n",
              "      <th>7</th>\n",
              "      <td>C0008</td>\n",
              "      <td>38</td>\n",
              "      <td>4</td>\n",
              "      <td>55.79</td>\n",
              "      <td>1433.45</td>\n",
              "      <td>Two year</td>\n",
              "      <td>Mailed check</td>\n",
              "      <td>0</td>\n",
              "      <td>Sales Manager</td>\n",
              "      <td>Premium</td>\n",
              "      <td>Customer C0008 is a 38-year-old Sales Manager ...</td>\n",
              "    </tr>\n",
              "    <tr>\n",
              "      <th>8</th>\n",
              "      <td>C0009</td>\n",
              "      <td>56</td>\n",
              "      <td>8</td>\n",
              "      <td>148.04</td>\n",
              "      <td>3273.68</td>\n",
              "      <td>Two year</td>\n",
              "      <td>Mailed check</td>\n",
              "      <td>1</td>\n",
              "      <td>Senior Management</td>\n",
              "      <td>Premium</td>\n",
              "      <td>Customer C0009 is a 56-year-old individual wit...</td>\n",
              "    </tr>\n",
              "    <tr>\n",
              "      <th>9</th>\n",
              "      <td>C0010</td>\n",
              "      <td>75</td>\n",
              "      <td>6</td>\n",
              "      <td>162.23</td>\n",
              "      <td>102.55</td>\n",
              "      <td>Two year</td>\n",
              "      <td>Bank transfer</td>\n",
              "      <td>1</td>\n",
              "      <td>Retired Professional</td>\n",
              "      <td>Premium</td>\n",
              "      <td>Customer C0010 is a 75-year-old retired profes...</td>\n",
              "    </tr>\n",
              "  </tbody>\n",
              "</table>\n",
              "</div>"
            ],
            "text/plain": [
              "  CustomerID  Age  Tenure  MonthlyCharges  TotalCharges        Contract  \\\n",
              "0      C0001   56       6           73.33       1170.36        Two year   \n",
              "1      C0002   69       3           49.75       2140.90        One year   \n",
              "2      C0003   46       8           22.81       4428.07  Month-to-month   \n",
              "3      C0004   32       2           96.21       1689.29        Two year   \n",
              "4      C0005   60       4           91.08        698.23        Two year   \n",
              "5      C0006   25       2           72.83       1845.86        Two year   \n",
              "6      C0007   78       6           22.53       4543.46        One year   \n",
              "7      C0008   38       4           55.79       1433.45        Two year   \n",
              "8      C0009   56       8          148.04       3273.68        Two year   \n",
              "9      C0010   75       6          162.23        102.55        Two year   \n",
              "\n",
              "      PaymentMethod  Churn              PredictedOccupation customer_segment  \\\n",
              "0     Bank transfer      0                Financial Analyst          Premium   \n",
              "1  Electronic check      0             Retired Professional          Premium   \n",
              "2  Electronic check      0             Mid-level Management           Budget   \n",
              "3      Mailed check      1               Young Professional          Premium   \n",
              "4       Credit card      0             Retired Professional          Premium   \n",
              "5      Mailed check      0  Customer Service Representative          Premium   \n",
              "6      Mailed check      0                          Retired           Budget   \n",
              "7      Mailed check      0                    Sales Manager          Premium   \n",
              "8      Mailed check      1                Senior Management          Premium   \n",
              "9     Bank transfer      1             Retired Professional          Premium   \n",
              "\n",
              "                                     profile_summary  \n",
              "0  Customer C0001 is a 56-year-old Financial Anal...  \n",
              "1  Customer C0002 is a 69-year-old retired profes...  \n",
              "2  Customer C0003 is a 46-year-old individual wit...  \n",
              "3  Customer C0004 is a 32-year-old young professi...  \n",
              "4  Customer C0005 is a 60-year-old retired profes...  \n",
              "5  Customer C0006 is a 25-year-old individual wit...  \n",
              "6  Customer ID C0007 is a 78-year-old individual ...  \n",
              "7  Customer C0008 is a 38-year-old Sales Manager ...  \n",
              "8  Customer C0009 is a 56-year-old individual wit...  \n",
              "9  Customer C0010 is a 75-year-old retired profes...  "
            ]
          },
          "execution_count": 12,
          "metadata": {},
          "output_type": "execute_result"
        }
      ],
      "source": [
        "df.head(10)"
      ]
    },
    {
      "cell_type": "code",
      "execution_count": 13,
      "metadata": {
        "colab": {
          "base_uri": "https://localhost:8080/",
          "height": 327
        },
        "id": "qV42lGkf1K8G",
        "outputId": "2e8864fd-b3b7-4238-90a8-46a03e2839e9"
      },
      "outputs": [
        {
          "data": {
            "application/vnd.jupyter.widget-view+json": {
              "model_id": "80b4e75af5ec475490e7382ff6826556",
              "version_major": 2,
              "version_minor": 0
            },
            "text/plain": [
              "  0%|          | 0/50 [00:00<?, ?it/s]"
            ]
          },
          "metadata": {},
          "output_type": "display_data"
        },
        {
          "name": "stdout",
          "output_type": "stream",
          "text": [
            "\n",
            "Augmented Dataset with New Features:\n"
          ]
        },
        {
          "data": {
            "text/html": [
              "<div>\n",
              "<style scoped>\n",
              "    .dataframe tbody tr th:only-of-type {\n",
              "        vertical-align: middle;\n",
              "    }\n",
              "\n",
              "    .dataframe tbody tr th {\n",
              "        vertical-align: top;\n",
              "    }\n",
              "\n",
              "    .dataframe thead th {\n",
              "        text-align: right;\n",
              "    }\n",
              "</style>\n",
              "<table border=\"1\" class=\"dataframe\">\n",
              "  <thead>\n",
              "    <tr style=\"text-align: right;\">\n",
              "      <th></th>\n",
              "      <th>CustomerID</th>\n",
              "      <th>Age</th>\n",
              "      <th>Tenure</th>\n",
              "      <th>MonthlyCharges</th>\n",
              "      <th>TotalCharges</th>\n",
              "      <th>Contract</th>\n",
              "      <th>PaymentMethod</th>\n",
              "      <th>Churn</th>\n",
              "      <th>PredictedOccupation</th>\n",
              "      <th>customer_segment</th>\n",
              "      <th>profile_summary</th>\n",
              "      <th>ChurnReason</th>\n",
              "      <th>RetentionOffer</th>\n",
              "      <th>EstimatedLTV</th>\n",
              "      <th>PreferredChannel</th>\n",
              "      <th>BestContactTime</th>\n",
              "    </tr>\n",
              "  </thead>\n",
              "  <tbody>\n",
              "    <tr>\n",
              "      <th>0</th>\n",
              "      <td>C0001</td>\n",
              "      <td>56</td>\n",
              "      <td>6</td>\n",
              "      <td>73.33</td>\n",
              "      <td>1170.36</td>\n",
              "      <td>Two year</td>\n",
              "      <td>Bank transfer</td>\n",
              "      <td>0</td>\n",
              "      <td>Financial Analyst</td>\n",
              "      <td>Premium</td>\n",
              "      <td>Customer C0001 is a 56-year-old Financial Anal...</td>\n",
              "      <td>Customer is dissatisfied with customer service...</td>\n",
              "      <td>Offer a 20% discount on the next billing cycle...</td>\n",
              "      <td>3000.50</td>\n",
              "      <td>Email</td>\n",
              "      <td>Afternoon</td>\n",
              "    </tr>\n",
              "    <tr>\n",
              "      <th>1</th>\n",
              "      <td>C0002</td>\n",
              "      <td>69</td>\n",
              "      <td>3</td>\n",
              "      <td>49.75</td>\n",
              "      <td>2140.90</td>\n",
              "      <td>One year</td>\n",
              "      <td>Electronic check</td>\n",
              "      <td>0</td>\n",
              "      <td>Retired Professional</td>\n",
              "      <td>Premium</td>\n",
              "      <td>Customer C0002 is a 69-year-old retired profes...</td>\n",
              "      <td>Customer may feel disconnected due to lack of ...</td>\n",
              "      <td>Offer a loyalty discount of 15% for the next 6...</td>\n",
              "      <td>1000.75</td>\n",
              "      <td>Email</td>\n",
              "      <td>Afternoon</td>\n",
              "    </tr>\n",
              "    <tr>\n",
              "      <th>2</th>\n",
              "      <td>C0003</td>\n",
              "      <td>46</td>\n",
              "      <td>8</td>\n",
              "      <td>22.81</td>\n",
              "      <td>4428.07</td>\n",
              "      <td>Month-to-month</td>\n",
              "      <td>Electronic check</td>\n",
              "      <td>0</td>\n",
              "      <td>Mid-level Management</td>\n",
              "      <td>Budget</td>\n",
              "      <td>Customer C0003 is a 46-year-old individual wit...</td>\n",
              "      <td>Customer may consider switching due to lower p...</td>\n",
              "      <td>Offer a discount of 10% on monthly charges for...</td>\n",
              "      <td>4428.07</td>\n",
              "      <td>Email</td>\n",
              "      <td>Afternoon</td>\n",
              "    </tr>\n",
              "    <tr>\n",
              "      <th>3</th>\n",
              "      <td>C0004</td>\n",
              "      <td>32</td>\n",
              "      <td>2</td>\n",
              "      <td>96.21</td>\n",
              "      <td>1689.29</td>\n",
              "      <td>Two year</td>\n",
              "      <td>Mailed check</td>\n",
              "      <td>1</td>\n",
              "      <td>Young Professional</td>\n",
              "      <td>Premium</td>\n",
              "      <td>Customer C0004 is a 32-year-old young professi...</td>\n",
              "      <td>High Monthly Charges compared to competitors</td>\n",
              "      <td>25% discount on next 3 months of service</td>\n",
              "      <td>2500.75</td>\n",
              "      <td>Email</td>\n",
              "      <td>Evening</td>\n",
              "    </tr>\n",
              "    <tr>\n",
              "      <th>4</th>\n",
              "      <td>C0005</td>\n",
              "      <td>60</td>\n",
              "      <td>4</td>\n",
              "      <td>91.08</td>\n",
              "      <td>698.23</td>\n",
              "      <td>Two year</td>\n",
              "      <td>Credit card</td>\n",
              "      <td>0</td>\n",
              "      <td>Retired Professional</td>\n",
              "      <td>Premium</td>\n",
              "      <td>Customer C0005 is a 60-year-old retired profes...</td>\n",
              "      <td>N/A - Customer has not churned.</td>\n",
              "      <td>Exclusive discount on monthly charges for loya...</td>\n",
              "      <td>1092.96</td>\n",
              "      <td>Email</td>\n",
              "      <td>Afternoon</td>\n",
              "    </tr>\n",
              "  </tbody>\n",
              "</table>\n",
              "</div>"
            ],
            "text/plain": [
              "  CustomerID  Age  Tenure  MonthlyCharges  TotalCharges        Contract  \\\n",
              "0      C0001   56       6           73.33       1170.36        Two year   \n",
              "1      C0002   69       3           49.75       2140.90        One year   \n",
              "2      C0003   46       8           22.81       4428.07  Month-to-month   \n",
              "3      C0004   32       2           96.21       1689.29        Two year   \n",
              "4      C0005   60       4           91.08        698.23        Two year   \n",
              "\n",
              "      PaymentMethod  Churn   PredictedOccupation customer_segment  \\\n",
              "0     Bank transfer      0     Financial Analyst          Premium   \n",
              "1  Electronic check      0  Retired Professional          Premium   \n",
              "2  Electronic check      0  Mid-level Management           Budget   \n",
              "3      Mailed check      1    Young Professional          Premium   \n",
              "4       Credit card      0  Retired Professional          Premium   \n",
              "\n",
              "                                     profile_summary  \\\n",
              "0  Customer C0001 is a 56-year-old Financial Anal...   \n",
              "1  Customer C0002 is a 69-year-old retired profes...   \n",
              "2  Customer C0003 is a 46-year-old individual wit...   \n",
              "3  Customer C0004 is a 32-year-old young professi...   \n",
              "4  Customer C0005 is a 60-year-old retired profes...   \n",
              "\n",
              "                                         ChurnReason  \\\n",
              "0  Customer is dissatisfied with customer service...   \n",
              "1  Customer may feel disconnected due to lack of ...   \n",
              "2  Customer may consider switching due to lower p...   \n",
              "3       High Monthly Charges compared to competitors   \n",
              "4                    N/A - Customer has not churned.   \n",
              "\n",
              "                                      RetentionOffer  EstimatedLTV  \\\n",
              "0  Offer a 20% discount on the next billing cycle...       3000.50   \n",
              "1  Offer a loyalty discount of 15% for the next 6...       1000.75   \n",
              "2  Offer a discount of 10% on monthly charges for...       4428.07   \n",
              "3           25% discount on next 3 months of service       2500.75   \n",
              "4  Exclusive discount on monthly charges for loya...       1092.96   \n",
              "\n",
              "  PreferredChannel BestContactTime  \n",
              "0            Email       Afternoon  \n",
              "1            Email       Afternoon  \n",
              "2            Email       Afternoon  \n",
              "3            Email         Evening  \n",
              "4            Email       Afternoon  "
            ]
          },
          "metadata": {},
          "output_type": "display_data"
        }
      ],
      "source": [
        "# Generate all features at once\n",
        "augmented_df = engineer.generate_features(\n",
        "    df=df,\n",
        "    features=[\n",
        "        {\n",
        "            'name': 'PredictedOccupation',\n",
        "            'description': \"Based on the customer's age and monthly spending patterns, suggest a likely occupation\",\n",
        "            'output_type': 'category'\n",
        "        },\n",
        "        {\n",
        "            'name': 'ChurnReason',\n",
        "            'description': 'A likely reason for churn based on customer data',\n",
        "            'output_type': 'text'\n",
        "        },\n",
        "        {\n",
        "            'name': 'RetentionOffer',\n",
        "            'description': 'A personalized retention offer based on customer profile',\n",
        "            'output_type': 'text'\n",
        "        },\n",
        "        {\n",
        "            'name': 'EstimatedLTV',\n",
        "            'description': 'Estimated lifetime value in dollars',\n",
        "            'output_type': 'float',\n",
        "            'constraints': {'min': 0}\n",
        "        },\n",
        "        {\n",
        "            'name': 'PreferredChannel',\n",
        "            'description': 'Predicted preferred communication channel',\n",
        "            'output_type': 'category',\n",
        "            'constraints': {'values': ['Email', 'Phone', 'SMS', 'Mail']}\n",
        "        },\n",
        "        {\n",
        "            'name': 'BestContactTime',\n",
        "            'description': 'Best time to contact the customer',\n",
        "            'output_type': 'category',\n",
        "            'constraints': {'values': ['Morning', 'Afternoon', 'Evening', 'Weekend']}\n",
        "        }\n",
        "    ],\n",
        "    use_sync=False,  # Use async for better performance\n",
        "    show_progress=True\n",
        ")\n",
        "\n",
        "print(\"\\nAugmented Dataset with New Features:\")\n",
        "display(augmented_df.head())"
      ]
    },
    {
      "cell_type": "markdown",
      "metadata": {
        "id": "fLzTyj2t1g6W"
      },
      "source": [
        "Key Observations:\n",
        "\n",
        "- The **DataEngineer** generates personalized retention offers based on each customer's specific situation, considering factors like age, contract type, and perceived churn risk.\n",
        "- Estimated LTV varies significantly, highlighting the importance of tailored retention strategies for high-value customers.\n",
        "- The **DataEngineer** identifies potential churn reasons even for non-churned customers, allowing for proactive retention efforts.\n",
        "- The retention offers are designed to address the specific concerns or risk factors identified for each customer."
      ]
    },
    {
      "cell_type": "markdown",
      "metadata": {
        "id": "uEV4_dqn43NY"
      },
      "source": [
        "# 2. Data Analysis and Visualization of *Generated Features*"
      ]
    },
    {
      "cell_type": "code",
      "execution_count": 14,
      "metadata": {
        "colab": {
          "base_uri": "https://localhost:8080/",
          "height": 1000
        },
        "id": "I3f4jLe30Cpb",
        "outputId": "2cf15aae-b771-424f-f0e2-d038032ea393"
      },
      "outputs": [
        {
          "data": {
            "image/png": "[encoded data removed]",
            "text/plain": [
              "<Figure size 1600x1200 with 5 Axes>"
            ]
          },
          "metadata": {},
          "output_type": "display_data"
        }
      ],
      "source": [
        "plt.figure(figsize=(16, 12))\n",
        "\n",
        "# Churn rate by contract type\n",
        "plt.subplot(2, 2, 1)\n",
        "sns.countplot(data=df, x='Contract', hue='Churn')\n",
        "plt.title('Churn Rate by Contract Type')\n",
        "\n",
        "# Monthly charges distribution for churned vs non-churned customers\n",
        "plt.subplot(2, 2, 2)\n",
        "sns.histplot(data=df, x='MonthlyCharges', hue='Churn', kde=True)\n",
        "plt.title('Monthly Charges Distribution')\n",
        "\n",
        "# Tenure vs Churn\n",
        "plt.subplot(2, 2, 3)\n",
        "sns.boxplot(data=df, x='Churn', y='Tenure')\n",
        "plt.title('Tenure vs Churn')\n",
        "\n",
        "# Correlation heatmap\n",
        "plt.subplot(2, 2, 4)\n",
        "corr_matrix = df[['Age', 'Tenure', 'MonthlyCharges', 'TotalCharges', 'Churn']].corr()\n",
        "sns.heatmap(corr_matrix, annot=True, cmap='coolwarm')\n",
        "plt.title('Correlation Heatmap')\n",
        "\n",
        "plt.tight_layout()\n",
        "plt.show()"
      ]
    },
    {
      "cell_type": "markdown",
      "metadata": {
        "id": "L-TFPflQ401f"
      },
      "source": [
        "# 3. Churn Prediction Model"
      ]
    },
    {
      "cell_type": "code",
      "execution_count": 15,
      "metadata": {
        "colab": {
          "base_uri": "https://localhost:8080/",
          "height": 755
        },
        "id": "R1kYfza10CsT",
        "outputId": "6177d709-edba-4976-95e6-a5583a20cec9"
      },
      "outputs": [
        {
          "name": "stdout",
          "output_type": "stream",
          "text": [
            "\n",
            "Churn Prediction Model Performance:\n",
            "              precision    recall  f1-score   support\n",
            "\n",
            "           0       0.50      0.80      0.62         5\n",
            "           1       0.50      0.20      0.29         5\n",
            "\n",
            "    accuracy                           0.50        10\n",
            "   macro avg       0.50      0.50      0.45        10\n",
            "weighted avg       0.50      0.50      0.45        10\n",
            "\n"
          ]
        },
        {
          "data": {
            "image/png": "[encoded data removed]",
            "text/plain": [
              "<Figure size 1000x600 with 1 Axes>"
            ]
          },
          "metadata": {},
          "output_type": "display_data"
        }
      ],
      "source": [
        "features = ['Age', 'Tenure', 'MonthlyCharges', 'TotalCharges']\n",
        "X = df[features]\n",
        "y = df['Churn']\n",
        "\n",
        "X_train, X_test, y_train, y_test = train_test_split(X, y, test_size=0.2, random_state=42)\n",
        "\n",
        "model = RandomForestClassifier(n_estimators=100, random_state=42)\n",
        "model.fit(X_train, y_train)\n",
        "\n",
        "y_pred = model.predict(X_test)\n",
        "\n",
        "print(\"\\nChurn Prediction Model Performance:\")\n",
        "print(classification_report(y_test, y_pred))\n",
        "\n",
        "# 4. Feature Importance\n",
        "feature_importance = pd.DataFrame({\n",
        "    'feature': features,\n",
        "    'importance': model.feature_importances_\n",
        "}).sort_values('importance', ascending=False)\n",
        "\n",
        "plt.figure(figsize=(10, 6))\n",
        "sns.barplot(x='importance', y='feature', data=feature_importance)\n",
        "plt.title('Feature Importance for Churn Prediction')\n",
        "plt.show()\n",
        "\n"
      ]
    },
    {
      "cell_type": "markdown",
      "metadata": {
        "id": "ckRZiWDd4ysN"
      },
      "source": [
        "# 5. Insights Generation using Augini"
      ]
    },
    {
      "cell_type": "code",
      "execution_count": 16,
      "metadata": {
        "id": "g2Q2g6WB1wWq"
      },
      "outputs": [
        {
          "data": {
            "application/vnd.jupyter.widget-view+json": {
              "model_id": "e5a0098b13d84cf0a30d502381041e0b",
              "version_major": 2,
              "version_minor": 0
            },
            "text/plain": [
              "  0%|          | 0/4 [00:00<?, ?it/s]"
            ]
          },
          "metadata": {},
          "output_type": "display_data"
        },
        {
          "data": {
            "text/html": [
              "<div>\n",
              "<style scoped>\n",
              "    .dataframe tbody tr th:only-of-type {\n",
              "        vertical-align: middle;\n",
              "    }\n",
              "\n",
              "    .dataframe tbody tr th {\n",
              "        vertical-align: top;\n",
              "    }\n",
              "\n",
              "    .dataframe thead th {\n",
              "        text-align: right;\n",
              "    }\n",
              "</style>\n",
              "<table border=\"1\" class=\"dataframe\">\n",
              "  <thead>\n",
              "    <tr style=\"text-align: right;\">\n",
              "      <th></th>\n",
              "      <th>Insight1</th>\n",
              "      <th>Insight2</th>\n",
              "      <th>Insight3</th>\n",
              "    </tr>\n",
              "  </thead>\n",
              "  <tbody>\n",
              "    <tr>\n",
              "      <th>0</th>\n",
              "      <td>Customer behavior analysis reveals that older ...</td>\n",
              "      <td>Key churn risk factors include short tenure an...</td>\n",
              "      <td>To enhance retention, it is recommended to imp...</td>\n",
              "    </tr>\n",
              "    <tr>\n",
              "      <th>1</th>\n",
              "      <td>Customer behavior patterns indicate that highe...</td>\n",
              "      <td>Key churn risk factors identified include low ...</td>\n",
              "      <td>To enhance retention, it is recommended to imp...</td>\n",
              "    </tr>\n",
              "    <tr>\n",
              "      <th>2</th>\n",
              "      <td>Customer C0003 demonstrates a stable engagemen...</td>\n",
              "      <td>Key churn risk factors identified include the ...</td>\n",
              "      <td>To enhance customer retention, consider offeri...</td>\n",
              "    </tr>\n",
              "    <tr>\n",
              "      <th>3</th>\n",
              "      <td>The data reveals that younger professionals, p...</td>\n",
              "      <td>Key churn risk factors identified include shor...</td>\n",
              "      <td>To improve retention, it is recommended to imp...</td>\n",
              "    </tr>\n",
              "  </tbody>\n",
              "</table>\n",
              "</div>"
            ],
            "text/plain": [
              "                                            Insight1  \\\n",
              "0  Customer behavior analysis reveals that older ...   \n",
              "1  Customer behavior patterns indicate that highe...   \n",
              "2  Customer C0003 demonstrates a stable engagemen...   \n",
              "3  The data reveals that younger professionals, p...   \n",
              "\n",
              "                                            Insight2  \\\n",
              "0  Key churn risk factors include short tenure an...   \n",
              "1  Key churn risk factors identified include low ...   \n",
              "2  Key churn risk factors identified include the ...   \n",
              "3  Key churn risk factors identified include shor...   \n",
              "\n",
              "                                            Insight3  \n",
              "0  To enhance retention, it is recommended to imp...  \n",
              "1  To enhance retention, it is recommended to imp...  \n",
              "2  To enhance customer retention, consider offeri...  \n",
              "3  To improve retention, it is recommended to imp...  "
            ]
          },
          "metadata": {},
          "output_type": "display_data"
        }
      ],
      "source": [
        "\n",
        "# Define feature specifications\n",
        "features = [\n",
        "    {\n",
        "        \"name\": \"Insight1\",\n",
        "        \"description\": \"Analyze customer behavior patterns and provide a clear, specific insight based on the data\",\n",
        "        \"output_type\": \"text\"\n",
        "    },\n",
        "    {\n",
        "        \"name\": \"Insight2\",\n",
        "        \"description\": \"Identify key churn risk factors and provide a clear, data-driven insight about what increases churn risk\",\n",
        "        \"output_type\": \"text\"\n",
        "    },\n",
        "    {\n",
        "        \"name\": \"Insight3\",\n",
        "        \"description\": \"Recommend a specific, actionable retention strategy based on the customer data and patterns\",\n",
        "        \"output_type\": \"text\"\n",
        "    }\n",
        "]\n",
        "\n",
        "# Generate all insights in one call\n",
        "insights_df = engineer.generate_features(\n",
        "    df=df.head(4),\n",
        "    features=features,\n",
        "    show_progress=True\n",
        ")\n",
        "\n",
        "# Display the insights\n",
        "display(insights_df[['Insight1', 'Insight2', 'Insight3']])"
      ]
    },
    {
      "cell_type": "code",
      "execution_count": 9,
      "metadata": {
        "colab": {
          "base_uri": "https://localhost:8080/",
          "height": 244
        },
        "id": "dop_1RAM3zd5",
        "outputId": "f2aa5d90-2585-4bc8-84fb-044bf345f32a"
      },
      "outputs": [
        {
          "data": {
            "text/html": [
              "<div>\n",
              "<style scoped>\n",
              "    .dataframe tbody tr th:only-of-type {\n",
              "        vertical-align: middle;\n",
              "    }\n",
              "\n",
              "    .dataframe tbody tr th {\n",
              "        vertical-align: top;\n",
              "    }\n",
              "\n",
              "    .dataframe thead th {\n",
              "        text-align: right;\n",
              "    }\n",
              "</style>\n",
              "<table border=\"1\" class=\"dataframe\">\n",
              "  <thead>\n",
              "    <tr style=\"text-align: right;\">\n",
              "      <th></th>\n",
              "      <th>CustomerID</th>\n",
              "      <th>Age</th>\n",
              "      <th>Tenure</th>\n",
              "      <th>MonthlyCharges</th>\n",
              "      <th>TotalCharges</th>\n",
              "      <th>Contract</th>\n",
              "      <th>PaymentMethod</th>\n",
              "      <th>Churn</th>\n",
              "      <th>ChurnReason</th>\n",
              "      <th>RetentionOffer</th>\n",
              "      <th>EstimatedLTV</th>\n",
              "      <th>PreferredChannel</th>\n",
              "      <th>BestContactTime</th>\n",
              "      <th>Insight1</th>\n",
              "      <th>Insight2</th>\n",
              "      <th>Insight3</th>\n",
              "    </tr>\n",
              "  </thead>\n",
              "  <tbody>\n",
              "    <tr>\n",
              "      <th>0</th>\n",
              "      <td>C0001</td>\n",
              "      <td>56</td>\n",
              "      <td>6</td>\n",
              "      <td>73.33</td>\n",
              "      <td>1170.36</td>\n",
              "      <td>Two year</td>\n",
              "      <td>Bank transfer</td>\n",
              "      <td>0</td>\n",
              "      <td>Customer is likely satisfied but may be influe...</td>\n",
              "      <td>Offer a loyalty discount of 15% on their month...</td>\n",
              "      <td>2200.0</td>\n",
              "      <td>Email</td>\n",
              "      <td>Tuesday at 10 AM</td>\n",
              "      <td>Customers with longer tenures (over 5 years) t...</td>\n",
              "      <td>Churn risk is notably higher among customers u...</td>\n",
              "      <td>Implement a proactive retention strategy that ...</td>\n",
              "    </tr>\n",
              "    <tr>\n",
              "      <th>1</th>\n",
              "      <td>C0002</td>\n",
              "      <td>69</td>\n",
              "      <td>3</td>\n",
              "      <td>49.75</td>\n",
              "      <td>2140.90</td>\n",
              "      <td>One year</td>\n",
              "      <td>Electronic check</td>\n",
              "      <td>0</td>\n",
              "      <td>Customer may be feeling overwhelmed with techn...</td>\n",
              "      <td>Offer a free personal consultation to assist w...</td>\n",
              "      <td>1589.4</td>\n",
              "      <td>Phone call</td>\n",
              "      <td>Early afternoons on weekdays (2 PM - 4 PM)</td>\n",
              "      <td>Older customers, particularly those aged 65 an...</td>\n",
              "      <td>Customers on a 'One year' contract who utilize...</td>\n",
              "      <td>Implement personalized outreach strategies, su...</td>\n",
              "    </tr>\n",
              "    <tr>\n",
              "      <th>2</th>\n",
              "      <td>C0003</td>\n",
              "      <td>46</td>\n",
              "      <td>8</td>\n",
              "      <td>22.81</td>\n",
              "      <td>4428.07</td>\n",
              "      <td>Month-to-month</td>\n",
              "      <td>Electronic check</td>\n",
              "      <td>0</td>\n",
              "      <td>Customer may consider switching to a competito...</td>\n",
              "      <td>Offer a 10% discount on monthly charges for th...</td>\n",
              "      <td>6855.84</td>\n",
              "      <td>Email</td>\n",
              "      <td>Wednesday, 2 PM - 4 PM</td>\n",
              "      <td>Customers with a tenure of 8 months exhibit a ...</td>\n",
              "      <td>The risk of churn increases significantly amon...</td>\n",
              "      <td>To enhance retention, implement a targeted cam...</td>\n",
              "    </tr>\n",
              "    <tr>\n",
              "      <th>3</th>\n",
              "      <td>C0004</td>\n",
              "      <td>32</td>\n",
              "      <td>2</td>\n",
              "      <td>96.21</td>\n",
              "      <td>1689.29</td>\n",
              "      <td>Two year</td>\n",
              "      <td>Mailed check</td>\n",
              "      <td>1</td>\n",
              "      <td>The customer may be experiencing dissatisfacti...</td>\n",
              "      <td>Offer a 20% discount on monthly charges for th...</td>\n",
              "      <td>2310.48</td>\n",
              "      <td>Email</td>\n",
              "      <td>Wednesday at 2 PM</td>\n",
              "      <td>Customers with higher monthly charges, such as...</td>\n",
              "      <td>Churn risk is notably higher among customers o...</td>\n",
              "      <td>Implement a customer retention strategy by off...</td>\n",
              "    </tr>\n",
              "  </tbody>\n",
              "</table>\n",
              "</div>"
            ],
            "text/plain": [
              "  CustomerID  Age  Tenure  MonthlyCharges  TotalCharges        Contract  \\\n",
              "0      C0001   56       6           73.33       1170.36        Two year   \n",
              "1      C0002   69       3           49.75       2140.90        One year   \n",
              "2      C0003   46       8           22.81       4428.07  Month-to-month   \n",
              "3      C0004   32       2           96.21       1689.29        Two year   \n",
              "\n",
              "      PaymentMethod  Churn                                        ChurnReason  \\\n",
              "0     Bank transfer      0  Customer is likely satisfied but may be influe...   \n",
              "1  Electronic check      0  Customer may be feeling overwhelmed with techn...   \n",
              "2  Electronic check      0  Customer may consider switching to a competito...   \n",
              "3      Mailed check      1  The customer may be experiencing dissatisfacti...   \n",
              "\n",
              "                                      RetentionOffer EstimatedLTV  \\\n",
              "0  Offer a loyalty discount of 15% on their month...       2200.0   \n",
              "1  Offer a free personal consultation to assist w...       1589.4   \n",
              "2  Offer a 10% discount on monthly charges for th...      6855.84   \n",
              "3  Offer a 20% discount on monthly charges for th...      2310.48   \n",
              "\n",
              "  PreferredChannel                             BestContactTime  \\\n",
              "0            Email                            Tuesday at 10 AM   \n",
              "1       Phone call  Early afternoons on weekdays (2 PM - 4 PM)   \n",
              "2            Email                      Wednesday, 2 PM - 4 PM   \n",
              "3            Email                           Wednesday at 2 PM   \n",
              "\n",
              "                                            Insight1  \\\n",
              "0  Customers with longer tenures (over 5 years) t...   \n",
              "1  Older customers, particularly those aged 65 an...   \n",
              "2  Customers with a tenure of 8 months exhibit a ...   \n",
              "3  Customers with higher monthly charges, such as...   \n",
              "\n",
              "                                            Insight2  \\\n",
              "0  Churn risk is notably higher among customers u...   \n",
              "1  Customers on a 'One year' contract who utilize...   \n",
              "2  The risk of churn increases significantly amon...   \n",
              "3  Churn risk is notably higher among customers o...   \n",
              "\n",
              "                                            Insight3  \n",
              "0  Implement a proactive retention strategy that ...  \n",
              "1  Implement personalized outreach strategies, su...  \n",
              "2  To enhance retention, implement a targeted cam...  \n",
              "3  Implement a customer retention strategy by off...  "
            ]
          },
          "execution_count": 9,
          "metadata": {},
          "output_type": "execute_result"
        }
      ],
      "source": [
        "insights_df.head()"
      ]
    },
    {
      "cell_type": "code",
      "execution_count": 10,
      "metadata": {
        "colab": {
          "base_uri": "https://localhost:8080/"
        },
        "id": "1K0q2Xn13k3L",
        "outputId": "528f4590-1a07-4875-c4f7-3ec3438a5792"
      },
      "outputs": [
        {
          "name": "stdout",
          "output_type": "stream",
          "text": [
            "Insights from the analyzed rows:\n",
            "\n",
            "Customer 1:\n",
            "Behavior Pattern: Customers with longer tenures (over 5 years) tend to exhibit higher satisfaction levels, as indicated by the lower churn rates among this group. This suggests that building long-term relationships through consistent engagement can lead to enhanced customer loyalty.\n",
            "Churn Risk Factor: Churn risk is notably higher among customers using non-standard payment methods (e.g., credit card) compared to those using bank transfers. This indicates a potential correlation between payment method and customer retention, with bank transfer users demonstrating a higher likelihood of staying.\n",
            "Retention Strategy: Implement a proactive retention strategy that includes personalized communication and targeted offers, such as loyalty discounts and premium upgrades, particularly aimed at customers nearing the end of their contract term or those showing signs of dissatisfaction.\n",
            "--------------------------------------------------------------------------------\n",
            "\n",
            "Customer 2:\n",
            "Behavior Pattern: Older customers, particularly those aged 65 and above, tend to have shorter tenures and are more likely to express feelings of being overwhelmed with technology, leading to potential dissatisfaction and increased churn risk.\n",
            "Churn Risk Factor: Customers on a 'One year' contract who utilize electronic payment methods and have a tenure of less than 4 years are at a higher risk of churn, as they may struggle with service complexity or feel less engaged.\n",
            "Retention Strategy: Implement personalized outreach strategies, such as offering free consultations and targeted discounts, to assist older customers with service usage and enhance their customer experience, thereby increasing retention rates.\n",
            "--------------------------------------------------------------------------------\n",
            "\n",
            "Customer 3:\n",
            "Behavior Pattern: Customers with a tenure of 8 months exhibit a higher likelihood of remaining loyal when provided with long-term contract options, indicating a preference for stability over month-to-month arrangements.\n",
            "Churn Risk Factor: The risk of churn increases significantly among customers using electronic check payment methods, especially those on month-to-month contracts, suggesting that payment method plays a crucial role in customer retention.\n",
            "Retention Strategy: To enhance retention, implement a targeted campaign offering a 10% discount on monthly charges for customers willing to switch to a 12-month contract, particularly focusing on those with electronic check payments and highlighting the benefits of long-term commitment.\n",
            "--------------------------------------------------------------------------------\n",
            "\n",
            "Customer 4:\n",
            "Behavior Pattern: Customers with higher monthly charges, such as those paying above $90, exhibit a greater tendency to churn, particularly if their perceived value of the service does not align with these costs. This indicates a strong correlation between dissatisfaction and pricing.\n",
            "Churn Risk Factor: Churn risk is notably higher among customers on 'Two year' contracts who utilize 'Mailed check' payment methods, suggesting that these customers may feel locked in and dissatisfied with their service but unable to easily switch providers.\n",
            "Retention Strategy: Implement a customer retention strategy by offering a 20% discount on monthly charges for the next 6 months, particularly targeting customers at risk of churn. This strategy should be communicated via email, as it is the preferred channel, and should be timed for contact on Wednesdays at 2 PM to maximize engagement.\n",
            "--------------------------------------------------------------------------------\n"
          ]
        }
      ],
      "source": [
        "# Display insights from each row\n",
        "print(\"Insights from the analyzed rows:\")\n",
        "for i in range(len(insights_df)):\n",
        "    print(f\"\\nCustomer {i + 1}:\")\n",
        "    print(\"Behavior Pattern:\", insights_df['Insight1'].iloc[i])\n",
        "    print(\"Churn Risk Factor:\", insights_df['Insight2'].iloc[i])\n",
        "    print(\"Retention Strategy:\", insights_df['Insight3'].iloc[i])\n",
        "    print(\"-\" * 80)  # Separator between customers"
      ]
    },
    {
      "cell_type": "markdown",
      "metadata": {
        "id": "6LkVTHqE4iiP"
      },
      "source": [
        "# 6. Retention Strategy Recommendations"
      ]
    },
    {
      "cell_type": "code",
      "execution_count": 25,
      "metadata": {
        "id": "LC6enbz119I4"
      },
      "outputs": [
        {
          "data": {
            "application/vnd.jupyter.widget-view+json": {
              "model_id": "f9b59374945b44689e50daf3a4b493c3",
              "version_major": 2,
              "version_minor": 0
            },
            "text/plain": [
              "Generating features:   0%|          | 0/4 [00:00<?, ?it/s]"
            ]
          },
          "metadata": {},
          "output_type": "display_data"
        }
      ],
      "source": [
        "strategy_prompt = \"\"\"\n",
        "Based on the churn analysis and generated insights, provide three strategic recommendations to reduce customer churn and improve retention.\n",
        "Consider personalized offers, pricing strategies, contract adjustments, and customer engagement initiatives.\n",
        "\n",
        "Respond with a JSON object with keys 'Strategy1', 'Strategy2', 'Strategy3'.\n",
        "\"\"\"\n",
        "\n",
        "strategies = augini.create_feature(augmented_df.head(4), 'Strategies', prompt=strategy_prompt)"
      ]
    },
    {
      "cell_type": "code",
      "execution_count": 26,
      "metadata": {
        "colab": {
          "base_uri": "https://localhost:8080/"
        },
        "id": "EG7IKvcT2hrT",
        "outputId": "da34c345-d585-4911-cda6-ffd4399e5792"
      },
      "outputs": [
        {
          "name": "stdout",
          "output_type": "stream",
          "text": [
            "Strategies from the first 3 rows:\n",
            "\n",
            "Row 1:\n",
            "Strategy1: {'Description': 'Implement personalized pricing strategies by offering loyalty discounts and tiered pricing based on tenure and customer satisfaction levels.', 'Details': 'For customers with a long tenure, like those over 5 years, provide a 15% discount on their monthly bill for 6 months, along with an upgrade to a premium package at no cost for the first month.'}\n",
            "Strategy2: {'Description': 'Enhance customer engagement initiatives by improving communication channels and timing.', 'Details': 'Utilize preferred communication channels, such as email, and schedule outreach during optimal contact times (e.g., Tuesday at 10 AM) to share updates, offers, and gather feedback.'}\n",
            "Strategy3: {'Description': 'Reassess contract terms to provide more flexible options that meet customer needs.', 'Details': 'Introduce shorter contract lengths or customizable contract options allowing customers to choose features that are most valuable to them, reducing the risk of churn due to dissatisfaction with rigid terms.'}\n",
            "--------------------------------------------------\n",
            "\n",
            "Row 2:\n",
            "Strategy1: {'Description': 'Implement personalized offers targeting older customers to simplify their experience.', 'Details': 'Provide a personalized onboarding process that includes a free personal consultation to assist with service usage. This can help alleviate feelings of overwhelm and improve customer satisfaction.', 'ExpectedOutcome': 'Increased customer engagement and reduced churn rates among older customers.'}\n",
            "Strategy2: {'Description': 'Revise pricing strategies to include discounts for long-term contracts.', 'Details': 'Offer a 10% discount on the next three months of service for customers who commit to extending their contract for an additional year. This financial incentive can encourage customers to remain loyal.', 'ExpectedOutcome': 'Higher contract renewal rates and improved customer retention.'}\n",
            "Strategy3: {'Description': 'Enhance customer engagement initiatives through targeted communication.', 'Details': 'Utilize the preferred communication channel (phone calls) during the best contact time (2 PM - 4 PM) to reach out to customers with personalized messages and offers, ensuring they feel valued and supported.', 'ExpectedOutcome': 'Strengthened customer relationships and a decrease in churn by addressing customer needs directly.'}\n",
            "--------------------------------------------------\n",
            "\n",
            "Row 3:\n",
            "Strategy1: {'Recommendation': 'Implement Personalized Offers', 'Details': 'Create tailored promotional offers for customers based on their usage patterns and preferences, such as a 10% discount on monthly charges for the next 6 months for customers willing to switch to a 12-month contract.'}\n",
            "Strategy2: {'Recommendation': 'Revise Pricing Strategies', 'Details': 'Conduct market research to align the pricing with competitors while maintaining profitability. Introduce tiered pricing plans that provide additional features or benefits to retain long-term customers.'}\n",
            "Strategy3: {'Recommendation': 'Enhance Customer Engagement Initiatives', 'Details': 'Increase communication with customers through their preferred channels, especially via email during their best contact times. Implement regular check-ins, satisfaction surveys, and loyalty programs to strengthen the customer relationship.'}\n",
            "--------------------------------------------------\n"
          ]
        }
      ],
      "source": [
        "# Assuming your DataFrame is named 'insights'\n",
        "print(\"Strategies from the first 3 rows:\")\n",
        "for i in range(3):\n",
        "    insight = strategies['Strategies'].iloc[i]\n",
        "    print(f\"\\nRow {i + 1}:\")\n",
        "    if isinstance(insight, dict):\n",
        "        for key, value in insight.items():\n",
        "            print(f\"{key}: {value}\")\n",
        "    else:\n",
        "        print(\"Unexpected data type. Raw insight:\")\n",
        "        print(insight)\n",
        "    print(\"-\" * 50)  # Separator between rows"
      ]
    },
    {
      "cell_type": "markdown",
      "metadata": {},
      "source": [
        "# 7. Chat"
      ]
    },
    {
      "cell_type": "markdown",
      "metadata": {},
      "source": [
        "Augini allows the user to gain insights from the data in a chat oriented manner. Following from the dataframes created in the above examples."
      ]
    },
    {
      "cell_type": "code",
      "execution_count": 11,
      "metadata": {},
      "outputs": [
        {
          "data": {
            "text/html": [
              "<div>\n",
              "<style scoped>\n",
              "    .dataframe tbody tr th:only-of-type {\n",
              "        vertical-align: middle;\n",
              "    }\n",
              "\n",
              "    .dataframe tbody tr th {\n",
              "        vertical-align: top;\n",
              "    }\n",
              "\n",
              "    .dataframe thead th {\n",
              "        text-align: right;\n",
              "    }\n",
              "</style>\n",
              "<table border=\"1\" class=\"dataframe\">\n",
              "  <thead>\n",
              "    <tr style=\"text-align: right;\">\n",
              "      <th></th>\n",
              "      <th>CustomerID</th>\n",
              "      <th>Age</th>\n",
              "      <th>Tenure</th>\n",
              "      <th>MonthlyCharges</th>\n",
              "      <th>TotalCharges</th>\n",
              "      <th>Contract</th>\n",
              "      <th>PaymentMethod</th>\n",
              "      <th>Churn</th>\n",
              "      <th>PredictedOccupation</th>\n",
              "    </tr>\n",
              "  </thead>\n",
              "  <tbody>\n",
              "    <tr>\n",
              "      <th>0</th>\n",
              "      <td>C0001</td>\n",
              "      <td>56</td>\n",
              "      <td>6</td>\n",
              "      <td>73.33</td>\n",
              "      <td>1170.36</td>\n",
              "      <td>Two year</td>\n",
              "      <td>Bank transfer</td>\n",
              "      <td>0</td>\n",
              "      <td>Retired Professional</td>\n",
              "    </tr>\n",
              "    <tr>\n",
              "      <th>1</th>\n",
              "      <td>C0002</td>\n",
              "      <td>69</td>\n",
              "      <td>3</td>\n",
              "      <td>49.75</td>\n",
              "      <td>2140.90</td>\n",
              "      <td>One year</td>\n",
              "      <td>Electronic check</td>\n",
              "      <td>0</td>\n",
              "      <td>Retired</td>\n",
              "    </tr>\n",
              "    <tr>\n",
              "      <th>2</th>\n",
              "      <td>C0003</td>\n",
              "      <td>46</td>\n",
              "      <td>8</td>\n",
              "      <td>22.81</td>\n",
              "      <td>4428.07</td>\n",
              "      <td>Month-to-month</td>\n",
              "      <td>Electronic check</td>\n",
              "      <td>0</td>\n",
              "      <td>Mid-level Professional</td>\n",
              "    </tr>\n",
              "    <tr>\n",
              "      <th>3</th>\n",
              "      <td>C0004</td>\n",
              "      <td>32</td>\n",
              "      <td>2</td>\n",
              "      <td>96.21</td>\n",
              "      <td>1689.29</td>\n",
              "      <td>Two year</td>\n",
              "      <td>Mailed check</td>\n",
              "      <td>1</td>\n",
              "      <td>Young Professional</td>\n",
              "    </tr>\n",
              "    <tr>\n",
              "      <th>4</th>\n",
              "      <td>C0005</td>\n",
              "      <td>60</td>\n",
              "      <td>4</td>\n",
              "      <td>91.08</td>\n",
              "      <td>698.23</td>\n",
              "      <td>Two year</td>\n",
              "      <td>Credit card</td>\n",
              "      <td>0</td>\n",
              "      <td>Retired Professional</td>\n",
              "    </tr>\n",
              "  </tbody>\n",
              "</table>\n",
              "</div>"
            ],
            "text/plain": [
              "  CustomerID  Age  Tenure  MonthlyCharges  TotalCharges        Contract  \\\n",
              "0      C0001   56       6           73.33       1170.36        Two year   \n",
              "1      C0002   69       3           49.75       2140.90        One year   \n",
              "2      C0003   46       8           22.81       4428.07  Month-to-month   \n",
              "3      C0004   32       2           96.21       1689.29        Two year   \n",
              "4      C0005   60       4           91.08        698.23        Two year   \n",
              "\n",
              "      PaymentMethod  Churn     PredictedOccupation  \n",
              "0     Bank transfer      0    Retired Professional  \n",
              "1  Electronic check      0                 Retired  \n",
              "2  Electronic check      0  Mid-level Professional  \n",
              "3      Mailed check      1      Young Professional  \n",
              "4       Credit card      0    Retired Professional  "
            ]
          },
          "execution_count": 11,
          "metadata": {},
          "output_type": "execute_result"
        }
      ],
      "source": [
        "df.head()"
      ]
    },
    {
      "cell_type": "code",
      "execution_count": null,
      "metadata": {},
      "outputs": [
        {
          "name": "stderr",
          "output_type": "stream",
          "text": [
            "/home/vadim/miniconda3/lib/python3.11/site-packages/transformers/tokenization_utils_base.py:1601: FutureWarning: `clean_up_tokenization_spaces` was not set. It will be set to `True` by default. This behavior will be depracted in transformers v4.45, and will be then set to `False` by default. For more details check this issue: https://github.com/huggingface/transformers/issues/31884\n",
            "  warnings.warn(\n",
            "INFO:httpx:HTTP Request: POST https://openrouter.ai/api/v1/chat/completions \"HTTP/1.1 200 OK\"\n"
          ]
        },
        {
          "name": "stdout",
          "output_type": "stream",
          "text": [
            "## Analysis Results 🔍\n",
            "\n",
            "**Key Finding:** The median of the MonthlyCharges is 111.37.\n",
            "\n",
            "### Details\n",
            "- The `MonthlyCharges` column has a median value of 111.37, indicating that half of the customers pay less than this amount and half pay more.\n",
            "\n",
            "> Evidence: The calculated median is supported by the column statistics provided.\n"
          ]
        }
      ],
      "source": [
        "# Initialize the DataAnalyzer\n",
        "analyzer = DataAnalyzer(\n",
        "    api_key=api_key,\n",
        "    use_openrouter=True,\n",
        "    model=\"gpt-4o-mini\",\n",
        "    temperature=0.8,\n",
        "    max_tokens=750,\n",
        "    concurrency_limit=10,\n",
        "    base_url=\"https://openrouter.ai/api/v1\",\n",
        "    debug=False,\n",
        "    enable_memory=True\n",
        ")\n",
        "\n",
        "# First fit the analyzer with your DataFrame\n",
        "analyzer.fit(df)\n",
        "\n",
        "# Then use the chat method\n",
        "response =  analyzer.chat(\n",
        "    query=\"What is the median of the MonthlyCharges?\",\n",
        ")\n",
        "\n",
        "# Display the response\n",
        "print(response)"
      ]
    },
    {
      "cell_type": "code",
      "execution_count": 16,
      "metadata": {},
      "outputs": [
        {
          "name": "stderr",
          "output_type": "stream",
          "text": [
            "INFO:httpx:HTTP Request: POST https://openrouter.ai/api/v1/chat/completions \"HTTP/1.1 200 OK\"\n"
          ]
        },
        {
          "data": {
            "text/plain": [
              "'## Monthly Charges Analysis 💵\\n\\n**Median Value:** The median of the `MonthlyCharges` is **111.37**.\\n\\n### Details\\n- The `MonthlyCharges` column has a mean of 108.43 and a median of 111.37, indicating that the distribution is relatively centered around the median.\\n- The standard deviation for `MonthlyCharges` is approximately 50.00, which suggests a moderate level of variability in the charges.\\n- The distribution of `MonthlyCharges` has a range from **22.53** to **194.91**.\\n\\n> Evidence: The value is directly derived from the column statistics.'"
            ]
          },
          "execution_count": 16,
          "metadata": {},
          "output_type": "execute_result"
        }
      ],
      "source": [
        "response =  analyzer.chat(\n",
        "    query=\"What is the median of the MonthlyCharges?\",\n",
        ")\n",
        "response\n"
      ]
    },
    {
      "cell_type": "code",
      "execution_count": null,
      "metadata": {},
      "outputs": [
        {
          "name": "stderr",
          "output_type": "stream",
          "text": [
            "INFO:httpx:HTTP Request: POST https://openrouter.ai/api/v1/chat/completions \"HTTP/1.1 200 OK\"\n"
          ]
        },
        {
          "data": {
            "text/plain": [
              "\"## Analysis of EstimatedLTV 💰\\n\\n**Key Observation:** The term EstimatedLTV (Estimated Lifetime Value) typically represents the projected revenue that a customer will generate during their relationship with a company.\\n\\n### Explanation\\n- In the context of the provided data, while EstimatedLTV is not explicitly mentioned, it can be inferred from the columns such as `MonthlyCharges`, `Tenure`, and `Churn`.\\n- **`MonthlyCharges`** indicates the recurring income per month from each customer.\\n- **`Tenure`** reflects the length of time (in months) that a customer stays with the service.\\n- **`Churn`** signifies whether a customer has left the service (1 for churned, 0 for retained).\\n\\n### Calculation Insights\\n- A common formula to estimate LTV might be:\\n  \\n  \\\\[ \\\\text{EstimatedLTV} = \\\\text{MonthlyCharges} \\\\times \\\\text{Tenure} \\\\times (1 - \\\\text{Churn}) \\\\]\\n  \\n- This calculation incorporates the monthly revenue per customer and adjusts it based on their retention status.\\n\\n### Data Patterns\\n- Given the `MonthlyCharges` mean of approximately 108.43 and a `Tenure` mean of about 4.9 months, you can see how LTV might vary based on the customer's churn status.\\n\\n> Note: The absence of a direct `EstimatedLTV` column limits precise calculations, but potential LTV insights can be drawn from existing data.\""
            ]
          },
          "execution_count": 17,
          "metadata": {},
          "output_type": "execute_result"
        }
      ],
      "source": [
        "response =  analyzer.chat(\"What does the EstimatedLTV represent?\")\n",
        "response"
      ]
    },
    {
      "cell_type": "code",
      "execution_count": null,
      "metadata": {},
      "outputs": [],
      "source": []
    },
    {
      "cell_type": "code",
      "execution_count": null,
      "metadata": {},
      "outputs": [],
      "source": []
    },
    {
      "cell_type": "code",
      "execution_count": 4,
      "metadata": {},
      "outputs": [
        {
          "data": {
            "text/markdown": [
              "---"
            ],
            "text/plain": [
              "<IPython.core.display.Markdown object>"
            ]
          },
          "metadata": {},
          "output_type": "display_data"
        },
        {
          "data": {
            "text/markdown": [
              "**🤔 Question:** What's the average salary by department?"
            ],
            "text/plain": [
              "<IPython.core.display.Markdown object>"
            ]
          },
          "metadata": {},
          "output_type": "display_data"
        },
        {
          "data": {
            "text/markdown": [
              "**🔍 Answer:**\n",
              "## Average Salary by Department 💼\n",
              "\n",
              "The analysis shows the average salary by department based on the provided data.\n",
              "\n",
              "### Average Salary Breakdown\n",
              "- **IT:** $62,500.00\n",
              "- **Sales:** $75,000.00\n",
              "- **Management:** $120,000.00\n",
              "\n",
              "### Calculation Details\n",
              "To find the average salary for each department, we sum the salaries of employees within that department and divide by the number of employees in that department. \n",
              "\n",
              "### Evidence\n",
              "- Total employees in IT: 2 (Salaries: 50,000, 65,000) => Average = (50,000 + 65,000) / 2 = 62,500\n",
              "- Total employees in Sales: 2 (Salaries: 75,000, 70,000) => Average = (75,000 + 70,000) / 2 = 75,000\n",
              "- Total employees in Management: 2 (Salaries: 120,000, 0) => Average = 120,000 / 1 = 120,000\n",
              "\n",
              "### Conclusion\n",
              "This distribution of average salaries indicates varying pay levels across departments, with Management having the highest average salary."
            ],
            "text/plain": [
              "<IPython.core.display.Markdown object>"
            ]
          },
          "metadata": {},
          "output_type": "display_data"
        },
        {
          "data": {
            "text/markdown": [
              "---"
            ],
            "text/plain": [
              "<IPython.core.display.Markdown object>"
            ]
          },
          "metadata": {},
          "output_type": "display_data"
        },
        {
          "data": {
            "text/markdown": [
              "**🤔 Question:** Is there a correlation between experience and performance?"
            ],
            "text/plain": [
              "<IPython.core.display.Markdown object>"
            ]
          },
          "metadata": {},
          "output_type": "display_data"
        },
        {
          "data": {
            "text/markdown": [
              "**🔍 Answer:**\n",
              "## Correlation Analysis 📊\n",
              "\n",
              "**Key Finding:** There is a notable correlation between experience and performance.\n",
              "\n",
              "### Correlation Value\n",
              "- The correlation coefficient between `Experience` and `Performance` is **0.7069**, indicating a strong positive relationship.\n",
              "\n",
              "### Details\n",
              "- This suggests that as experience increases, performance tends to improve as well.\n",
              "- The strong positive correlation indicates a reliable relationship, which may point to the importance of experience in achieving higher performance ratings.\n",
              "\n",
              "> Evidence: The correlation coefficient of 0.7069 reflects a significant alignment between increased experience and improved performance metrics."
            ],
            "text/plain": [
              "<IPython.core.display.Markdown object>"
            ]
          },
          "metadata": {},
          "output_type": "display_data"
        },
        {
          "data": {
            "text/markdown": [
              "---"
            ],
            "text/plain": [
              "<IPython.core.display.Markdown object>"
            ]
          },
          "metadata": {},
          "output_type": "display_data"
        },
        {
          "data": {
            "text/markdown": [
              "**🤔 Question:** What insights can you give me about the age distribution?"
            ],
            "text/plain": [
              "<IPython.core.display.Markdown object>"
            ]
          },
          "metadata": {},
          "output_type": "display_data"
        },
        {
          "data": {
            "text/markdown": [
              "**🔍 Answer:**\n",
              "## Age Distribution Insights 📊\n",
              "\n",
              "**Key Finding:** The age distribution shows a moderate positive skew, indicating a tendency for younger ages within the dataset.\n",
              "\n",
              "### Details\n",
              "- **Mean Age:** 36.33 years\n",
              "- **Median Age:** 34.0 years\n",
              "- **Standard Deviation:** 10.31 years\n",
              "- **Age Range:** 25 to 52 years\n",
              "- **Quartiles:** 29.25 (Q1), 34.0 (Q2), 42.5 (Q3)\n",
              "- **Skewness:** 0.66, suggesting a rightward tail towards older ages, but the distribution is fairly balanced overall.\n",
              "\n",
              "### Observations\n",
              "- The dataset comprises individuals primarily in their 30s, with a few younger and older participants.\n",
              "- No missing values were detected, which enhances data reliability.\n",
              "- The correlation between age and other factors (e.g., experience and salary) is relatively strong, particularly with experience (0.9992), indicating that older individuals tend to have more experience.\n",
              "\n",
              "> **Evidence:** The quartiles and skewness provide a clear picture of the distribution's characteristics."
            ],
            "text/plain": [
              "<IPython.core.display.Markdown object>"
            ]
          },
          "metadata": {},
          "output_type": "display_data"
        },
        {
          "data": {
            "text/markdown": [
              "---"
            ],
            "text/plain": [
              "<IPython.core.display.Markdown object>"
            ]
          },
          "metadata": {},
          "output_type": "display_data"
        },
        {
          "data": {
            "text/markdown": [
              "**🤔 Question:** Which department has the highest average performance score?"
            ],
            "text/plain": [
              "<IPython.core.display.Markdown object>"
            ]
          },
          "metadata": {},
          "output_type": "display_data"
        },
        {
          "data": {
            "text/markdown": [
              "**🔍 Answer:**\n",
              "## Department Performance Analysis 📊\n",
              "\n",
              "**Key Finding:** The department with the highest average performance score is **Management**.\n",
              "\n",
              "### Details\n",
              "- **Average Performance Scores:**\n",
              "  - IT: 4.1\n",
              "  - Sales: 3.95\n",
              "  - Management: 4.7\n",
              "\n",
              "### Evidence\n",
              "- The average performance for each department was calculated as follows:\n",
              "  - IT: (4.2 + 3.9) / 2 = 4.1\n",
              "  - Sales: (3.8 + 4.1) / 2 = 3.95\n",
              "  - Management: 4.7\n",
              "\n",
              "**Conclusion:** Based on the performance scores, Management shows the highest average performance among the departments."
            ],
            "text/plain": [
              "<IPython.core.display.Markdown object>"
            ]
          },
          "metadata": {},
          "output_type": "display_data"
        }
      ],
      "source": [
        "import pandas as pd\n",
        "from IPython.display import display, Markdown\n",
        "from augini import DataAnalyzer\n",
        "\n",
        "# Create a simple test DataFrame\n",
        "df = pd.DataFrame({\n",
        "    'Age': [25, 35, 45, 28, 52, 33],\n",
        "    'Salary': [50000, 75000, 120000, 65000, 95000, 70000],\n",
        "    'Experience': [2, 8, 15, 4, 20, 7],\n",
        "    'Department': ['IT', 'Sales', 'Management', 'IT', 'Management', 'Sales'],\n",
        "    'Performance': [4.2, 3.8, 4.7, 3.9, 4.5, 4.1]\n",
        "})\n",
        "\n",
        "# Initialize the analyzer\n",
        "analyzer = DataAnalyzer(\n",
        "    api_key=api_key,\n",
        "    model=\"gpt-4o-mini\",\n",
        "    temperature=0.8,\n",
        "    max_tokens=750\n",
        ")\n",
        "\n",
        "# Fit the analyzer with our DataFrame\n",
        "analyzer.fit(df)\n",
        "\n",
        "# Example questions to ask\n",
        "questions = [\n",
        "    \"What's the average salary by department?\",\n",
        "    \"Is there a correlation between experience and performance?\",\n",
        "    \"What insights can you give me about the age distribution?\",\n",
        "]\n",
        "\n",
        "# Function to display responses nicely\n",
        "def display_qa(question, response):\n",
        "    display(Markdown(\"---\"))\n",
        "    display(Markdown(f\"**🤔 Question:** {question}\"))\n",
        "    display(Markdown(f\"**🔍 Answer:**\\n{response}\"))\n",
        "\n",
        "# Ask questions and display responses\n",
        "for question in questions:\n",
        "    response = analyzer.chat(query=question)\n",
        "    display_qa(question, response)\n",
        "\n",
        "# You can also ask follow-up questions\n",
        "follow_up = \"Which department has the highest average performance score?\"\n",
        "response = analyzer.chat(query=follow_up)\n",
        "display_qa(follow_up, response)"
      ]
    },
    {
      "cell_type": "code",
      "execution_count": null,
      "metadata": {},
      "outputs": [],
      "source": []
    }
  ],
  "metadata": {
    "colab": {
      "provenance": []
    },
    "kernelspec": {
      "display_name": "base",
      "language": "python",
      "name": "python3"
    },
    "language_info": {
      "codemirror_mode": {
        "name": "ipython",
        "version": 3
      },
      "file_extension": ".py",
      "mimetype": "text/x-python",
      "name": "python",
      "nbconvert_exporter": "python",
      "pygments_lexer": "ipython3",
      "version": "3.11.5"
    }
  },
  "nbformat": 4,
  "nbformat_minor": 0
}
