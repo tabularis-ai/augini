{
 "cells": [
  {
   "cell_type": "code",
   "execution_count": 1,
   "metadata": {},
   "outputs": [],
   "source": [
    "import os\n",
    "import sys\n",
    "import numpy as np\n",
    "import pandas as pd\n",
    "sys.path.append(os.path.join('..'))\n",
    "from augini import Augini, AuginiInteractiveChat"
   ]
  },
  {
   "cell_type": "code",
   "execution_count": 2,
   "metadata": {},
   "outputs": [
    {
     "name": "stdout",
     "output_type": "stream",
     "text": [
      "Using API key from environment variable.\n"
     ]
    }
   ],
   "source": [
    "# Step 0: Input your api key\n",
    "def get_api_key():\n",
    "    api_key = os.environ.get('OPENROUTER_TOKEN')\n",
    "    if api_key:\n",
    "        print(\"Using API key from environment variable.\")\n",
    "        return api_key\n",
    "    else:\n",
    "        api_key = input(\"Enter your API key manually: \")\n",
    "        return api_key\n",
    "\n",
    "# Set up Augini\n",
    "api_key = get_api_key()\n",
    "augini = Augini(api_key=api_key, use_openrouter=True, model='openai/gpt-4o-mini',enable_memory=True)"
   ]
  },
  {
   "cell_type": "code",
   "execution_count": 3,
   "metadata": {},
   "outputs": [
    {
     "name": "stdout",
     "output_type": "stream",
     "text": [
      "Original Dataset:\n"
     ]
    },
    {
     "data": {
      "text/html": [
       "<div>\n",
       "<style scoped>\n",
       "    .dataframe tbody tr th:only-of-type {\n",
       "        vertical-align: middle;\n",
       "    }\n",
       "\n",
       "    .dataframe tbody tr th {\n",
       "        vertical-align: top;\n",
       "    }\n",
       "\n",
       "    .dataframe thead th {\n",
       "        text-align: right;\n",
       "    }\n",
       "</style>\n",
       "<table border=\"1\" class=\"dataframe\">\n",
       "  <thead>\n",
       "    <tr style=\"text-align: right;\">\n",
       "      <th></th>\n",
       "      <th>CustomerID</th>\n",
       "      <th>Age</th>\n",
       "      <th>Tenure</th>\n",
       "      <th>MonthlyCharges</th>\n",
       "      <th>TotalCharges</th>\n",
       "      <th>Contract</th>\n",
       "      <th>PaymentMethod</th>\n",
       "      <th>Churn</th>\n",
       "    </tr>\n",
       "  </thead>\n",
       "  <tbody>\n",
       "    <tr>\n",
       "      <th>0</th>\n",
       "      <td>C0001</td>\n",
       "      <td>56</td>\n",
       "      <td>9</td>\n",
       "      <td>31.68</td>\n",
       "      <td>313.66</td>\n",
       "      <td>One year</td>\n",
       "      <td>Electronic check</td>\n",
       "      <td>0</td>\n",
       "    </tr>\n",
       "    <tr>\n",
       "      <th>1</th>\n",
       "      <td>C0002</td>\n",
       "      <td>69</td>\n",
       "      <td>3</td>\n",
       "      <td>65.70</td>\n",
       "      <td>4973.30</td>\n",
       "      <td>One year</td>\n",
       "      <td>Bank transfer</td>\n",
       "      <td>0</td>\n",
       "    </tr>\n",
       "    <tr>\n",
       "      <th>2</th>\n",
       "      <td>C0003</td>\n",
       "      <td>46</td>\n",
       "      <td>7</td>\n",
       "      <td>64.44</td>\n",
       "      <td>2402.73</td>\n",
       "      <td>Month-to-month</td>\n",
       "      <td>Credit card</td>\n",
       "      <td>0</td>\n",
       "    </tr>\n",
       "    <tr>\n",
       "      <th>3</th>\n",
       "      <td>C0004</td>\n",
       "      <td>32</td>\n",
       "      <td>6</td>\n",
       "      <td>145.33</td>\n",
       "      <td>1469.85</td>\n",
       "      <td>Two year</td>\n",
       "      <td>Electronic check</td>\n",
       "      <td>0</td>\n",
       "    </tr>\n",
       "    <tr>\n",
       "      <th>4</th>\n",
       "      <td>C0005</td>\n",
       "      <td>60</td>\n",
       "      <td>8</td>\n",
       "      <td>148.21</td>\n",
       "      <td>4429.12</td>\n",
       "      <td>Month-to-month</td>\n",
       "      <td>Bank transfer</td>\n",
       "      <td>1</td>\n",
       "    </tr>\n",
       "  </tbody>\n",
       "</table>\n",
       "</div>"
      ],
      "text/plain": [
       "  CustomerID  Age  Tenure  MonthlyCharges  TotalCharges        Contract  \\\n",
       "0      C0001   56       9           31.68        313.66        One year   \n",
       "1      C0002   69       3           65.70       4973.30        One year   \n",
       "2      C0003   46       7           64.44       2402.73  Month-to-month   \n",
       "3      C0004   32       6          145.33       1469.85        Two year   \n",
       "4      C0005   60       8          148.21       4429.12  Month-to-month   \n",
       "\n",
       "      PaymentMethod  Churn  \n",
       "0  Electronic check      0  \n",
       "1     Bank transfer      0  \n",
       "2       Credit card      0  \n",
       "3  Electronic check      0  \n",
       "4     Bank transfer      1  "
      ]
     },
     "metadata": {},
     "output_type": "display_data"
    }
   ],
   "source": [
    "# Create a sample customer dataset\n",
    "np.random.seed(42)\n",
    "n_customers = 100\n",
    "\n",
    "data = {\n",
    "    'CustomerID': [f'C{i:04d}' for i in range(1, n_customers + 1)],\n",
    "    'Age': np.random.randint(18, 80, n_customers),\n",
    "    'Tenure': np.random.randint(0, 10, n_customers),\n",
    "    'MonthlyCharges': np.random.uniform(20, 200, n_customers).round(2),\n",
    "    'TotalCharges': np.random.uniform(100, 5000, n_customers).round(2),\n",
    "    'Contract': np.random.choice(['Month-to-month', 'One year', 'Two year'], n_customers),\n",
    "    'PaymentMethod': np.random.choice(['Electronic check', 'Mailed check', 'Bank transfer', 'Credit card'], n_customers),\n",
    "    'Churn': np.random.choice([0, 1], n_customers, p=[0.7, 0.3])  # 30% churn rate\n",
    "}\n",
    "\n",
    "df = pd.DataFrame(data)\n",
    "\n",
    "print(\"Original Dataset:\")\n",
    "display(df.head())"
   ]
  },
  {
   "cell_type": "code",
   "execution_count": 4,
   "metadata": {},
   "outputs": [
    {
     "data": {
      "application/vnd.jupyter.widget-view+json": {
       "model_id": "39920ad852f24e538b982020b3f5a003",
       "version_major": 2,
       "version_minor": 0
      },
      "text/plain": [
       "VBox(children=(HBox(children=(Text(value='', description='Query:', layout=Layout(width='80%'), placeholder='Ty…"
      ]
     },
     "metadata": {},
     "output_type": "display_data"
    }
   ],
   "source": [
    "# Create the interactive chat interface\n",
    "chat_interface = AuginiInteractiveChat(augini, df)\n",
    "\n",
    "# Start the chat session\n",
    "chat_interface.start()"
   ]
  },
  {
   "cell_type": "code",
   "execution_count": null,
   "metadata": {},
   "outputs": [],
   "source": []
  }
 ],
 "metadata": {
  "kernelspec": {
   "display_name": ".venv",
   "language": "python",
   "name": "python3"
  },
  "language_info": {
   "codemirror_mode": {
    "name": "ipython",
    "version": 3
   },
   "file_extension": ".py",
   "mimetype": "text/x-python",
   "name": "python",
   "nbconvert_exporter": "python",
   "pygments_lexer": "ipython3",
   "version": "3.8.10"
  }
 },
 "nbformat": 4,
 "nbformat_minor": 2
}
